{
 "cells": [
  {
   "cell_type": "markdown",
   "metadata": {},
   "source": [
    "# Welcome to the world of Python!\n",
    "### In this notebook, we will walk through basics of coding in Python to get you started. \n",
    "### Here is a good beginer tutorial for reference: https://python101.pythonlibrary.org/index.html\n",
    "\n"
   ]
  },
  {
   "cell_type": "markdown",
   "metadata": {},
   "source": [
    "## 1. Strings"
   ]
  },
  {
   "cell_type": "code",
   "execution_count": 5,
   "metadata": {},
   "outputs": [
    {
     "name": "stdout",
     "output_type": "stream",
     "text": [
      "Hello Python!\n"
     ]
    }
   ],
   "source": [
    "# P\n",
    "print(\"Hello Python!\")\n",
    "\n"
   ]
  },
  {
   "cell_type": "code",
   "execution_count": 32,
   "metadata": {},
   "outputs": [
    {
     "name": "stdout",
     "output_type": "stream",
     "text": [
      "Geostatistics is \n",
      "is \n",
      "\n"
     ]
    }
   ],
   "source": [
    "string1 = \"Geostatistics\"\n",
    "\n",
    "# print(string1)\n",
    "\n",
    "string2 = \" is \" \n",
    "\n",
    "## How do we combine the two strings in to a new one named string3?\n",
    "\n",
    "string3 = string1 + string2\n",
    "print(string3)\n",
    "\n",
    "## How do we take a slice of string 3 and put it into a new string named string4?\n",
    "\n",
    "## String slicing\n",
    "\n",
    "string4 = string2[-3:]\n",
    "\n",
    "print(string4)\n",
    "\n",
    "## Know that 0 is first number and 12 is the last that, marks the index position \n",
    "\n",
    "string5 = string3[17:]\n",
    "print(string5)\n",
    "\n"
   ]
  },
  {
   "cell_type": "markdown",
   "metadata": {},
   "source": [
    "## 2. Lists"
   ]
  },
  {
   "cell_type": "code",
   "execution_count": 50,
   "metadata": {},
   "outputs": [
    {
     "ename": "SyntaxError",
     "evalue": "invalid syntax (1515087219.py, line 26)",
     "output_type": "error",
     "traceback": [
      "\u001b[1;36m  Cell \u001b[1;32mIn[50], line 26\u001b[1;36m\u001b[0m\n\u001b[1;33m    print(list1([::-1])\u001b[0m\n\u001b[1;37m                 ^\u001b[0m\n\u001b[1;31mSyntaxError\u001b[0m\u001b[1;31m:\u001b[0m invalid syntax\n"
     ]
    }
   ],
   "source": [
    "# Lists\n",
    "#Recall ZERO is the first digit counted by Python\n",
    "## List0 is empty (a place holder)\n",
    "list0 = []\n",
    "list1 = [4,7,3]\n",
    "list2 = ['a','b','c']\n",
    "\n",
    "\n",
    "## List concatenation\n",
    "\n",
    "combo_list = list1+list2 \n",
    "print(combo_list)\n",
    "\n",
    "## List slicing\n",
    "\n",
    "list_sliced = combo_list[3]\n",
    "print(list_sliced)\n",
    "\n",
    "## List sorting\n",
    "\n",
    "list1.sort()\n",
    "print(list1)\n",
    "\n",
    "#Change order from ascending to decending \n",
    "list2.sort()\n",
    "print(list2)\n",
    "print(list1([::-1])"
   ]
  },
  {
   "cell_type": "markdown",
   "metadata": {},
   "source": [
    "## 3. Numbers"
   ]
  },
  {
   "cell_type": "code",
   "execution_count": 72,
   "metadata": {},
   "outputs": [
    {
     "name": "stdout",
     "output_type": "stream",
     "text": [
      "<class 'int'>\n",
      "<class 'float'>\n",
      "<class 'str'>\n",
      "Aug26\n"
     ]
    }
   ],
   "source": [
    "## Integer\n",
    "a = 3\n",
    "\n",
    "# Identifies input typ, integer, matrix, list\n",
    "print(type(a))\n",
    "\n",
    "## Float\n",
    "b = 11.0\n",
    "print(type(b))\n",
    "\n",
    "## Arithmetic Operators\n",
    "c = 2\n",
    "\n",
    "# r1 = a + b; print(r1)\n",
    "# ## Assignment Operators\n",
    "# r2 = a + b; print(r2)\n",
    "# r3 = a - b; print(r3)\n",
    "# r4 = a * b; print(r4)\n",
    "# r5 = a / c; print(r5)\n",
    "# r6 = a//c; print(r6)\n",
    "# r7 = a**c; print(r7)\n",
    "\n",
    "## FOR FOR LOOPS REVIEW THE FOLLOWING\n",
    "# a = a + 1\n",
    "a+= 1\n",
    "\n",
    "\n",
    "## Number to string\n",
    "day = 26\n",
    "day_str = str(day); print(type(day_str))\n",
    "month = 'Aug'\n",
    "date = month + day_str; print(date)\n",
    "\n",
    "## String to number \n",
    "day_num = float(day_str)\n",
    "print(day_num);\n"
   ]
  },
  {
   "cell_type": "markdown",
   "metadata": {},
   "source": [
    "## 4. Numpy arrays"
   ]
  },
  {
   "cell_type": "code",
   "execution_count": 103,
   "metadata": {},
   "outputs": [
    {
     "name": "stdout",
     "output_type": "stream",
     "text": [
      "2\n",
      "[2]\n",
      "(3,)\n",
      "(2, 3)\n",
      "[2.5 3.5 4.5]\n",
      "[2. 5.]\n",
      "[3 4 5]\n",
      "[ 3  8 15]\n",
      "26\n"
     ]
    }
   ],
   "source": [
    "## Let's import your first python package\n",
    "\n",
    "## Designate Numpy variable as np\n",
    "import numpy as np\n",
    "## Cannot have two seperate data \n",
    "## 1-D array, \".array\" calls for the array\n",
    "A1 = np.array([1,2,3]) # 1-D array\n",
    "\n",
    "print(A1[1])\n",
    "print(A1[1:2])\n",
    "## How to find out the shape or dimension of the array?\n",
    "print(A1.shape)\n",
    "\n",
    "## Wheb running a geospatial analysis, we will return\n",
    "## 2-D array; [] first row, [] second row\n",
    "# Displays the configuration of rows and columns\n",
    "B1 = np.array([[1,2,3],[4,5,6]]) \n",
    "print(B1.shape)\n",
    "\n",
    "# Calculates the averages accross a rows\n",
    "print(np.mean(B1,axis=0))\n",
    "print(np.mean(B1,axis=1))\n",
    "## Broadcasting\n",
    "## Have a scaler value \n",
    "A2 = A1+2\n",
    "print(A2)\n",
    "\n",
    "A3 = A1*A2;print(A3)\n",
    "## Array multiplication. Let's multiply the two arrays A1 and A2 and put the result into A3.\n",
    "# A3 = \n",
    "\n",
    "# Matrix product. Matrix product is different from array multiplication\n",
    "\n",
    "C1 = np.dot(A1,np.transpose(A2))\n",
    "print(C1)"
   ]
  },
  {
   "cell_type": "markdown",
   "metadata": {},
   "source": [
    "## 5. Conditional statements"
   ]
  },
  {
   "cell_type": "code",
   "execution_count": 146,
   "metadata": {},
   "outputs": [
    {
     "name": "stdout",
     "output_type": "stream",
     "text": [
      "[1 2 3] [ 3  8 15]\n",
      "[ True  True  True]\n",
      "[1 1 1]\n",
      "[ True False  True]\n",
      "[False  True False]\n",
      "yes\n"
     ]
    }
   ],
   "source": [
    "## An example of if, else\n",
    "var1 = 1\n",
    "var2 = 3\n",
    "\n",
    "## Create a boolean variable that indicates whether a condition is true or false (two possible outcomes/binary output)\n",
    "\n",
    "#flag = var1>var2; print(flag)\n",
    "\n",
    "## Write our first if-else statement \n",
    "\n",
    "#if var1>var:\n",
    "#print(str(var1)(\"is greater than\"+str(var2))\n",
    "    \n",
    "    #  else: var1<var2\n",
    "#print(str(var1)(\"is not greater than\"+str(var2))\n",
    "\n",
    "    \n",
    "## An example of elif, and, or\n",
    "a = 3\n",
    "b = 11.0\n",
    "\n",
    "#if a<10 and b<10:\n",
    "#print(\"a less than 10, b less than 10\")   \n",
    "#elif a<10 or b<10:\n",
    "#   print(\"a less than 10 or b less than 10\"\n",
    "#else:\n",
    "#    print(\"none less than 10\")\n",
    "\n",
    "print(A1,A3)\n",
    "print((A1<10)+(A3<10))\n",
    "# Allows you to see the Boolean (0,1) binary\n",
    "print(((A1<10)+(A3<10))*1)\n",
    "## More about Boolean Operations\n",
    "A1 = np.array([1,2,3]) # 1-D array\n",
    "\n",
    "  \n",
    "print(A1!=2)\n",
    "print(A1==2)\n",
    "  # == explicit designation to equal this varible\n",
    "\n",
    "\n",
    "my_list = [1, 2, 3, 4]\n",
    "x = 3\n",
    "\n",
    "if x in my_list:\n",
    "    print('yes')\n",
    "else:\n",
    "    print('no')\n",
    "## Write a conditional statement to find out if \"x\" is in \"my_list\".\n",
    "## in / not in, equal, not equal\n",
    "\n"
   ]
  },
  {
   "cell_type": "markdown",
   "metadata": {},
   "source": [
    "## 6. For loops"
   ]
  },
  {
   "cell_type": "code",
   "execution_count": 181,
   "metadata": {},
   "outputs": [
    {
     "name": "stdout",
     "output_type": "stream",
     "text": [
      "0 a\n",
      "1 b\n",
      "2 c\n",
      "3\n",
      "4\n"
     ]
    }
   ],
   "source": [
    "## Loop over a list\n",
    "\n",
    "my_list2 = ['a','b','c']\n",
    "\n",
    "## Loop over a numerical range, allows for iterations in model design (time steps)\n",
    "\n",
    "#for item in my_list2:\n",
    "   # print(item)\n",
    "\n",
    "#for i in range(13):\n",
    "    #print(i)\n",
    "\n",
    "## Enumerate, how to create a list of file names in a folder\n",
    "\n",
    "## list, enumerate\n",
    "\n",
    "for i,fname in enumerate(my_list2):\n",
    "    print(i,fname)\n",
    "\n",
    "## Combine loops and conditional statements\n",
    "my_list = [1, 2, 3, 4]\n",
    "\n",
    "for i in my_list:\n",
    "    if i>2:\n",
    "        print(i)\n",
    "#else:\n",
    " #   print('no')\n"
   ]
  },
  {
   "cell_type": "markdown",
   "metadata": {},
   "source": [
    "## 7. List Comprehensions"
   ]
  },
  {
   "cell_type": "code",
   "execution_count": 185,
   "metadata": {},
   "outputs": [
    {
     "name": "stdout",
     "output_type": "stream",
     "text": [
      "[3]\n",
      "[3, 4]\n",
      "[3, 4, 5]\n",
      "[3, 4, 5, 6]\n",
      "[3, 4, 5, 6, 7]\n",
      "[3, 4, 5, 6, 7]\n"
     ]
    }
   ],
   "source": [
    "## Create a list where the ith item equals to i+3\n",
    "my_list2 = []\n",
    "\n",
    "for i in range(5):\n",
    "    my_list2.append(i+3)\n",
    "    print(my_list2) # When including inside of the for loop, shoWS ALL steps\n",
    "#Equivalent to:\n",
    "my_list2 = [i+3 for i in range(5)]\n",
    "print(my_list2)\n",
    "\n",
    "\n",
    "## Create a list where each item is the second character of each item in \"my_list3\", i.e., \"b\" in \"ab\".bbfj\n",
    "my_list3 = ['ab', 'cd', 'ef', 'gh', 'ij']\n",
    "\n"
   ]
  },
  {
   "cell_type": "markdown",
   "metadata": {},
   "source": [
    "## 8. Work with files"
   ]
  },
  {
   "cell_type": "code",
   "execution_count": 201,
   "metadata": {},
   "outputs": [
    {
     "ename": "IndentationError",
     "evalue": "expected an indented block after 'with' statement on line 9 (4101011311.py, line 12)",
     "output_type": "error",
     "traceback": [
      "\u001b[1;36m  Cell \u001b[1;32mIn[201], line 12\u001b[1;36m\u001b[0m\n\u001b[1;33m    with open(filename,'r') as f:\u001b[0m\n\u001b[1;37m    ^\u001b[0m\n\u001b[1;31mIndentationError\u001b[0m\u001b[1;31m:\u001b[0m expected an indented block after 'with' statement on line 9\n"
     ]
    }
   ],
   "source": [
    "## work with files\n",
    "import os # operating system, check if a file exists in a current directory\n",
    "filename = \"test.txt\"\n",
    "\n",
    "## check if a file exists\n",
    "print(os.path.isfile(filename))\n",
    "\n",
    "\n",
    "with open(filename,'w') as f: #Gives permission to 'write' file\n",
    "#    f.write('Geostatistics is fun')\n",
    "## open and read a text file\n",
    "with open(filename,'r') as f:\n",
    "        line1 = f.read()\n",
    "print(line1)\n",
    "## open and write a text file    \n",
    "\n"
   ]
  },
  {
   "cell_type": "markdown",
   "metadata": {},
   "source": [
    "## 9. Functions"
   ]
  },
  {
   "cell_type": "code",
   "execution_count": 10,
   "metadata": {},
   "outputs": [],
   "source": [
    "## Define a function to calculate the maximum amount of water vapor in the air under given temperature\n",
    "import numpy as np\n",
    "def T2ES(T):\n",
    "    # T in degree C\n",
    "    # esat in kPa\n",
    "    esat = 0.611*np.exp(17.625*T/(T+243.04))\n",
    "    return esat\n",
    "\n",
    "## Call the function to calculate esat under T=20\n",
    "esat1 = T2ES(20)\n",
    "   \n",
    "\n",
    "## Call the function to calculate esat under temperatures ranging from 0 to 30 degree C\n",
    "\n"
   ]
  },
  {
   "cell_type": "markdown",
   "metadata": {},
   "source": [
    "## 10. Plot lines"
   ]
  },
  {
   "cell_type": "code",
   "execution_count": 11,
   "metadata": {},
   "outputs": [],
   "source": [
    "import matplotlib.pyplot as plt # The standard package for visualization\n",
    "\n",
    "# plt.figure()\n",
    "# plt.plot(T,esat2)\n",
    "# plt.xlabel('Temperature (degree C)')\n",
    "# plt.ylabel('Saturated vapor pressure (kPa)')\n"
   ]
  },
  {
   "cell_type": "code",
   "execution_count": null,
   "metadata": {},
   "outputs": [],
   "source": []
  }
 ],
 "metadata": {
  "kernelspec": {
   "display_name": "Python 3 (ipykernel)",
   "language": "python",
   "name": "python3"
  },
  "language_info": {
   "codemirror_mode": {
    "name": "ipython",
    "version": 3
   },
   "file_extension": ".py",
   "mimetype": "text/x-python",
   "name": "python",
   "nbconvert_exporter": "python",
   "pygments_lexer": "ipython3",
   "version": "3.12.4"
  }
 },
 "nbformat": 4,
 "nbformat_minor": 4
}
