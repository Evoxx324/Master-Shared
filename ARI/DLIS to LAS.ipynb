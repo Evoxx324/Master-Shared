{
 "cells": [
  {
   "cell_type": "code",
   "execution_count": 1,
   "id": "3deb71d7-60c0-482b-99d4-1f5683056402",
   "metadata": {},
   "outputs": [
    {
     "ename": "FileNotFoundError",
     "evalue": "[Errno 2] No such file or directory: 'Data/TCCSP OBS-1_Final Mudlog LAS.las'",
     "output_type": "error",
     "traceback": [
      "\u001b[1;31m---------------------------------------------------------------------------\u001b[0m",
      "\u001b[1;31mFileNotFoundError\u001b[0m                         Traceback (most recent call last)",
      "Cell \u001b[1;32mIn[1], line 5\u001b[0m\n\u001b[0;32m      3\u001b[0m \u001b[38;5;66;03m# Step 1: Load the Excel spreadsheet\u001b[39;00m\n\u001b[0;32m      4\u001b[0m file_path \u001b[38;5;241m=\u001b[39m \u001b[38;5;124m\"\u001b[39m\u001b[38;5;124mData/TCCSP OBS-1_Final Mudlog LAS.las\u001b[39m\u001b[38;5;124m\"\u001b[39m\n\u001b[1;32m----> 5\u001b[0m xls \u001b[38;5;241m=\u001b[39m pd\u001b[38;5;241m.\u001b[39mExcelFile(file_path)\n\u001b[0;32m      7\u001b[0m \u001b[38;5;66;03m# Step 2: Load the data from the first sheet into a DataFrame\u001b[39;00m\n\u001b[0;32m      8\u001b[0m sheet1_df \u001b[38;5;241m=\u001b[39m pd\u001b[38;5;241m.\u001b[39mread_excel(xls, sheet_name\u001b[38;5;241m=\u001b[39m\u001b[38;5;241m0\u001b[39m)\n",
      "File \u001b[1;32mC:\\ProgramData\\anaconda3\\Lib\\site-packages\\pandas\\io\\excel\\_base.py:1550\u001b[0m, in \u001b[0;36mExcelFile.__init__\u001b[1;34m(self, path_or_buffer, engine, storage_options, engine_kwargs)\u001b[0m\n\u001b[0;32m   1548\u001b[0m     ext \u001b[38;5;241m=\u001b[39m \u001b[38;5;124m\"\u001b[39m\u001b[38;5;124mxls\u001b[39m\u001b[38;5;124m\"\u001b[39m\n\u001b[0;32m   1549\u001b[0m \u001b[38;5;28;01melse\u001b[39;00m:\n\u001b[1;32m-> 1550\u001b[0m     ext \u001b[38;5;241m=\u001b[39m inspect_excel_format(\n\u001b[0;32m   1551\u001b[0m         content_or_path\u001b[38;5;241m=\u001b[39mpath_or_buffer, storage_options\u001b[38;5;241m=\u001b[39mstorage_options\n\u001b[0;32m   1552\u001b[0m     )\n\u001b[0;32m   1553\u001b[0m     \u001b[38;5;28;01mif\u001b[39;00m ext \u001b[38;5;129;01mis\u001b[39;00m \u001b[38;5;28;01mNone\u001b[39;00m:\n\u001b[0;32m   1554\u001b[0m         \u001b[38;5;28;01mraise\u001b[39;00m \u001b[38;5;167;01mValueError\u001b[39;00m(\n\u001b[0;32m   1555\u001b[0m             \u001b[38;5;124m\"\u001b[39m\u001b[38;5;124mExcel file format cannot be determined, you must specify \u001b[39m\u001b[38;5;124m\"\u001b[39m\n\u001b[0;32m   1556\u001b[0m             \u001b[38;5;124m\"\u001b[39m\u001b[38;5;124man engine manually.\u001b[39m\u001b[38;5;124m\"\u001b[39m\n\u001b[0;32m   1557\u001b[0m         )\n",
      "File \u001b[1;32mC:\\ProgramData\\anaconda3\\Lib\\site-packages\\pandas\\io\\excel\\_base.py:1402\u001b[0m, in \u001b[0;36minspect_excel_format\u001b[1;34m(content_or_path, storage_options)\u001b[0m\n\u001b[0;32m   1399\u001b[0m \u001b[38;5;28;01mif\u001b[39;00m \u001b[38;5;28misinstance\u001b[39m(content_or_path, \u001b[38;5;28mbytes\u001b[39m):\n\u001b[0;32m   1400\u001b[0m     content_or_path \u001b[38;5;241m=\u001b[39m BytesIO(content_or_path)\n\u001b[1;32m-> 1402\u001b[0m \u001b[38;5;28;01mwith\u001b[39;00m get_handle(\n\u001b[0;32m   1403\u001b[0m     content_or_path, \u001b[38;5;124m\"\u001b[39m\u001b[38;5;124mrb\u001b[39m\u001b[38;5;124m\"\u001b[39m, storage_options\u001b[38;5;241m=\u001b[39mstorage_options, is_text\u001b[38;5;241m=\u001b[39m\u001b[38;5;28;01mFalse\u001b[39;00m\n\u001b[0;32m   1404\u001b[0m ) \u001b[38;5;28;01mas\u001b[39;00m handle:\n\u001b[0;32m   1405\u001b[0m     stream \u001b[38;5;241m=\u001b[39m handle\u001b[38;5;241m.\u001b[39mhandle\n\u001b[0;32m   1406\u001b[0m     stream\u001b[38;5;241m.\u001b[39mseek(\u001b[38;5;241m0\u001b[39m)\n",
      "File \u001b[1;32mC:\\ProgramData\\anaconda3\\Lib\\site-packages\\pandas\\io\\common.py:882\u001b[0m, in \u001b[0;36mget_handle\u001b[1;34m(path_or_buf, mode, encoding, compression, memory_map, is_text, errors, storage_options)\u001b[0m\n\u001b[0;32m    873\u001b[0m         handle \u001b[38;5;241m=\u001b[39m \u001b[38;5;28mopen\u001b[39m(\n\u001b[0;32m    874\u001b[0m             handle,\n\u001b[0;32m    875\u001b[0m             ioargs\u001b[38;5;241m.\u001b[39mmode,\n\u001b[1;32m   (...)\u001b[0m\n\u001b[0;32m    878\u001b[0m             newline\u001b[38;5;241m=\u001b[39m\u001b[38;5;124m\"\u001b[39m\u001b[38;5;124m\"\u001b[39m,\n\u001b[0;32m    879\u001b[0m         )\n\u001b[0;32m    880\u001b[0m     \u001b[38;5;28;01melse\u001b[39;00m:\n\u001b[0;32m    881\u001b[0m         \u001b[38;5;66;03m# Binary mode\u001b[39;00m\n\u001b[1;32m--> 882\u001b[0m         handle \u001b[38;5;241m=\u001b[39m \u001b[38;5;28mopen\u001b[39m(handle, ioargs\u001b[38;5;241m.\u001b[39mmode)\n\u001b[0;32m    883\u001b[0m     handles\u001b[38;5;241m.\u001b[39mappend(handle)\n\u001b[0;32m    885\u001b[0m \u001b[38;5;66;03m# Convert BytesIO or file objects passed with an encoding\u001b[39;00m\n",
      "\u001b[1;31mFileNotFoundError\u001b[0m: [Errno 2] No such file or directory: 'Data/TCCSP OBS-1_Final Mudlog LAS.las'"
     ]
    }
   ],
   "source": [
    "import pandas as pd\n",
    "\n",
    "# Step 1: Load the Excel spreadsheet\n",
    "file_path = \"Data/TCCSP OBS-1_Final Mudlog LAS.las\"\n",
    "xls = pd.ExcelFile(file_path)\n",
    "\n",
    "# Step 2: Load the data from the first sheet into a DataFrame\n",
    "sheet1_df = pd.read_excel(xls, sheet_name=0)\n",
    "\n",
    "# Step 3: Save the DataFrame to CSV format\n",
    "csv_output_path = \"TCCSP_OBS1_Mudlog.csv\"\n",
    "sheet1_df.to_csv(csv_output_path, index=False)\n",
    "\n",
    "print(f\"CSV file saved as {csv_output_path}\")\n"
   ]
  },
  {
   "cell_type": "code",
   "execution_count": null,
   "id": "d1ca67a8-635f-4393-a605-9f97c888194a",
   "metadata": {},
   "outputs": [],
   "source": [
    "import lasio\n",
    "import pandas as pd\n",
    "\n",
    "# Load the LAS file\n",
    "file_path = \"Data/TCCSP OBS-1_Final Mudlog LAS.las\"\n",
    "las = lasio.read(file_path)\n",
    "\n",
    "# Convert the LAS data to a pandas DataFrame\n",
    "las_df = las.df()\n",
    "\n",
    "# Save the DataFrame to CSV format\n",
    "csv_output_path = \"TCCSP_OBS1_Mudlog.csv\"\n",
    "las_df.to_csv(csv_output_path, index=False)\n",
    "\n",
    "print(f\"CSV file saved as {csv_output_path}\")"
   ]
  },
  {
   "cell_type": "code",
   "execution_count": null,
   "id": "75c74c04-3dc9-4cba-bb01-da60811233d4",
   "metadata": {},
   "outputs": [],
   "source": [
    "subprocess.check_call([sys.executable, \"-m\", \"pip\", \"install\", \"lasio\"])\n",
    "\n",
    "import subprocess\n",
    "import sys\n",
    "\n",
    "# Step 1: Install required package if not already installed\n",
    "try:\n",
    "    import lasio\n",
    "except ImportError:\n",
    "    subprocess.check_call([sys.executable, \"-m\", \"pip\", \"install\", \"lasio\"])\n",
    "    import lasio\n",
    "\n",
    "import pandas as pd\n",
    "\n",
    "# Step 2: Load the LAS file\n",
    "file_path = \"Data/TCCSP OBS-1_Final Mudlog LAS.las\"  # Replace with your actual file path\n",
    "las = lasio.read(file_path)\n",
    "\n",
    "# Step 3: Convert the LAS data to a pandas DataFrame\n",
    "las_df = las.df()\n",
    "\n",
    "# Step 4: Save the DataFrame to CSV format\n",
    "csv_output_path = \"TCCSP_OBS1_Mudlog.csv\"\n",
    "las_df.to_csv(csv_output_path, index=False)\n",
    "\n",
    "print(f\"CSV file saved as {csv_output_path}\")\n",
    " "
   ]
  },
  {
   "cell_type": "code",
   "execution_count": null,
   "id": "72f6f561-2abb-4029-be64-ada3a96c36b0",
   "metadata": {},
   "outputs": [],
   "source": [
    "pip install lasio\n"
   ]
  },
  {
   "cell_type": "code",
   "execution_count": 7,
   "id": "9acca023-1a6a-4d1b-a2d9-28e2e618e71c",
   "metadata": {},
   "outputs": [
    {
     "name": "stdout",
     "output_type": "stream",
     "text": [
      "Conversion to CSV completed successfully.\n"
     ]
    }
   ],
   "source": [
    "import lasio\n",
    "\n",
    "# Load the LAS file\n",
    "las = lasio.read('TCCSP OBS-1_Final Mudlog LAS.las')\n",
    "\n",
    "# Convert LAS data to a DataFrame\n",
    "df = las.df()\n",
    "\n",
    "# Save the DataFrame to a CSV file\n",
    "df.to_csv('TCCSP_OBS-1_Final_Mudlog.csv', index=False)\n",
    "\n",
    "print(\"Conversion to CSV completed successfully.\")\n"
   ]
  },
  {
   "cell_type": "code",
   "execution_count": null,
   "id": "27013560-b0f3-4057-9d96-7038b297e29d",
   "metadata": {},
   "outputs": [],
   "source": []
  }
 ],
 "metadata": {
  "kernelspec": {
   "display_name": "Python 3 (ipykernel)",
   "language": "python",
   "name": "python3"
  },
  "language_info": {
   "codemirror_mode": {
    "name": "ipython",
    "version": 3
   },
   "file_extension": ".py",
   "mimetype": "text/x-python",
   "name": "python",
   "nbconvert_exporter": "python",
   "pygments_lexer": "ipython3",
   "version": "3.12.4"
  }
 },
 "nbformat": 4,
 "nbformat_minor": 5
}
