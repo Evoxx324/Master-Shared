{
  "nbformat": 4,
  "nbformat_minor": 0,
  "metadata": {
    "kernelspec": {
      "display_name": "Python 3",
      "language": "python",
      "name": "python3"
    },
    "language_info": {
      "codemirror_mode": {
        "name": "ipython",
        "version": 3
      },
      "file_extension": ".py",
      "mimetype": "text/x-python",
      "name": "python",
      "nbconvert_exporter": "python",
      "pygments_lexer": "ipython3",
      "version": "3.7.5"
    },
    "colab": {
      "name": "Getting_Started_in_Python.ipynb",
      "provenance": [],
      "collapsed_sections": [
        "5H_mdxmZ2aJd",
        "l7XU-xe54I0C",
        "C4cWgQNLGvri",
        "08yyAy7NPWN3",
        "Pz4L9v56ZPc1",
        "YGnEQlr0di5i"
      ],
      "toc_visible": true
    }
  },
  "cells": [
    {
      "cell_type": "markdown",
      "metadata": {
        "id": "JDIJw7yds4o0"
      },
      "source": [
        "# Getting Started in Python"
      ]
    },
    {
      "cell_type": "markdown",
      "metadata": {
        "id": "t6MAfEmG2WPX"
      },
      "source": [
        "Let's start learning how to write python code. \n"
      ]
    },
    {
      "cell_type": "markdown",
      "metadata": {
        "id": "5H_mdxmZ2aJd"
      },
      "source": [
        "### Loading Matlab-like functionality"
      ]
    },
    {
      "cell_type": "markdown",
      "metadata": {
        "id": "eoaW2culwA8z"
      },
      "source": [
        "\n",
        "Matlab (MATrix LABoratory) is a program/language specifically developed for linear algebra. Python on the other hand is a much more universal [interpreted high-level general-purpose programming language](https://https://en.wikipedia.org/wiki/Python_(programming_language)) that is used for all sorts of applications. To use python for specific problems, we generally have to start by **loading some libraries** that have been built on python to add certain functionalities (Matlab essentially works the same, but the software you install already has most functionalities that you'll ever need included). Specifically, we want to load [numpy](https://https://numpy.org), which basically includes all the same linear algebra functionality that Matlab has, and [matplotlib](https://https://matplotlib.org) which allows you to use similar commands as in Matlab for plotting (though unfortunately, the plotting is still a bit more limited in python)\n"
      ]
    },
    {
      "cell_type": "code",
      "metadata": {
        "id": "Pbcr8Kb7yeR3"
      },
      "source": [
        "import numpy as np\n",
        "import matplotlib.pyplot as plt\n",
        "\n",
        "# don't worry about the next line; its a safeguard against unexpected behavior \n",
        "# from dividing integers in some python versions (which would give, e.g., 1/2=0)\n",
        "# it may not be necessary in this version, but -who knows- may help you avoid \n",
        "# issues in the future.\n",
        "from __future__ import division"
      ],
      "execution_count": 14,
      "outputs": []
    },
    {
      "cell_type": "markdown",
      "metadata": {
        "id": "7tIODiq3z1Wa"
      },
      "source": [
        "Note the `as np` and `as plt` statements. Any functionality you use from  loaded libraries (unfortunately) have to be preceded by the name, or in this case a user-defined abbreviation, of that library. As an example, the python language itself does not even have a sine function, as you can see when you try to compute the sin of 1 as:\n"
      ]
    },
    {
      "cell_type": "code",
      "metadata": {
        "colab": {
          "base_uri": "https://localhost:8080/",
          "height": 164
        },
        "id": "elyw-SNq0aNp",
        "outputId": "21ebc398-2ee3-414d-8158-a016b8d64f44"
      },
      "source": [
        "sin(1)"
      ],
      "execution_count": 15,
      "outputs": [
        {
          "output_type": "error",
          "ename": "NameError",
          "evalue": "ignored",
          "traceback": [
            "\u001b[0;31m---------------------------------------------------------------------------\u001b[0m",
            "\u001b[0;31mNameError\u001b[0m                                 Traceback (most recent call last)",
            "\u001b[0;32m<ipython-input-15-025f39ddbe02>\u001b[0m in \u001b[0;36m<module>\u001b[0;34m()\u001b[0m\n\u001b[0;32m----> 1\u001b[0;31m \u001b[0msin\u001b[0m\u001b[0;34m(\u001b[0m\u001b[0;36m1\u001b[0m\u001b[0;34m)\u001b[0m\u001b[0;34m\u001b[0m\u001b[0;34m\u001b[0m\u001b[0m\n\u001b[0m",
            "\u001b[0;31mNameError\u001b[0m: name 'sin' is not defined"
          ]
        }
      ]
    },
    {
      "cell_type": "markdown",
      "metadata": {
        "id": "gFRfDIMk1FSN"
      },
      "source": [
        "So to use the sine function that is part of the many functionalities in numpy, you would instead use:"
      ]
    },
    {
      "cell_type": "code",
      "metadata": {
        "colab": {
          "base_uri": "https://localhost:8080/"
        },
        "id": "aTe9dAqs0iXC",
        "outputId": "bbf5a682-c94f-44fe-f742-49f6eaddd364"
      },
      "source": [
        "np.sin(1)"
      ],
      "execution_count": 16,
      "outputs": [
        {
          "output_type": "execute_result",
          "data": {
            "text/plain": [
              "0.8414709848078965"
            ]
          },
          "metadata": {},
          "execution_count": 16
        }
      ]
    },
    {
      "cell_type": "markdown",
      "metadata": {
        "id": "hmsQS3ub1OM_"
      },
      "source": [
        "You can use whatever abbreviation of a library you like:"
      ]
    },
    {
      "cell_type": "code",
      "metadata": {
        "colab": {
          "base_uri": "https://localhost:8080/"
        },
        "id": "P8X695lC0nue",
        "outputId": "f00c8e5e-2bfc-4660-faa5-efd510fff73c"
      },
      "source": [
        "import numpy as m\n",
        "\n",
        "m.sin(1)"
      ],
      "execution_count": 17,
      "outputs": [
        {
          "output_type": "execute_result",
          "data": {
            "text/plain": [
              "0.8414709848078965"
            ]
          },
          "metadata": {},
          "execution_count": 17
        }
      ]
    },
    {
      "cell_type": "markdown",
      "metadata": {
        "id": "2eMHQkUn1VYV"
      },
      "source": [
        "but many popular libraries, like numpy, have pretty common abbreviations that you'll often see when googling any problems you might run into, so I'll try and use the same. "
      ]
    },
    {
      "cell_type": "code",
      "metadata": {
        "id": "QYR_Mzgm1js0"
      },
      "source": [
        "import numpy as np"
      ],
      "execution_count": 18,
      "outputs": []
    },
    {
      "cell_type": "markdown",
      "metadata": {
        "id": "0ywypo3X1mOe"
      },
      "source": [
        "**Suggestion**\n",
        "\n",
        "As you can see, you can import libraries anywhere in a jupyter notebook, but I generally prefer to put all of those `import` statements in one cell in the very top of a notebook; otherwise you could run into headscratcher issues, such as a sine only working in some parts of your code (namely, after wherever you load the corresponding library). "
      ]
    },
    {
      "cell_type": "markdown",
      "metadata": {
        "id": "SEs3h68p2yFF"
      },
      "source": [
        "The numpy library just gives you basic linear algebra in python, but one major advantage of python -partly just because of its popularity- is that there are innumerable sophisticated and open source / free libraries available to solve almost any problem you might be interested in. For example, the amazing [scikit-learn](https://scikit-learn.org/stable/) library for anything machine learning related. "
      ]
    },
    {
      "cell_type": "markdown",
      "metadata": {
        "id": "l7XU-xe54I0C"
      },
      "source": [
        "### Functions"
      ]
    },
    {
      "cell_type": "markdown",
      "metadata": {
        "id": "OoO1smSU4Np7"
      },
      "source": [
        "A key building block in any programming is a `function`. Because functions are so important in programming, I will go into quite a bit (perhaps too much) detail here to hopefully avoid confusions later throughout the semester. \n",
        "\n",
        "In the context of programming, you can think of a function as a little automaton that takes one or more inputs (which can be numbers, vectors/matrices, text, or more complicated datastructures), performs some manipulations on those inputs, and then spits out one or more outputs. \n",
        "\n",
        "There are two key properties of functions you have to be very clear about:\n",
        "\n",
        "\n",
        "1.   It *doesn't* matter what variable names you use for inputs/outputs of a function, but it *does* matter that you use the correct number and type of inputs/outputs. \n",
        "2.   'Whatever happens inside a function stays inside a function.' If you define a bunch of parameters/variables inside a function, those will not be known outside of it. Only values that are specifically assigned to returned output variables will be known outside of the function. \n",
        "\n",
        "If this sounds vague, let's see if some examples help. Consider the function we already discussed above, the sine function that comes with numpy, or perhaps the cosine instead. We can just give the cosine function 1 input and it will simply print out a single output value:\n"
      ]
    },
    {
      "cell_type": "code",
      "metadata": {
        "colab": {
          "base_uri": "https://localhost:8080/"
        },
        "id": "kO-fo86R6hJH",
        "outputId": "d77ad7fc-4892-4673-f4ec-777239ddfaf6"
      },
      "source": [
        "np.cos(3.14159265359)"
      ],
      "execution_count": 19,
      "outputs": [
        {
          "output_type": "execute_result",
          "data": {
            "text/plain": [
              "-1.0"
            ]
          },
          "metadata": {},
          "execution_count": 19
        }
      ]
    },
    {
      "cell_type": "markdown",
      "metadata": {
        "id": "LgiE7xkP674c"
      },
      "source": [
        "Similarly, we can assign the same value to a variable first, and then give that variable to the same cosine function, which will of course return the same value as before:"
      ]
    },
    {
      "cell_type": "code",
      "metadata": {
        "colab": {
          "base_uri": "https://localhost:8080/"
        },
        "id": "YA4Hhd6h7EFf",
        "outputId": "32a559ae-d125-489a-afa9-5c80b858ff9a"
      },
      "source": [
        "pie = 3.14159265359\n",
        "np.cos(pie)"
      ],
      "execution_count": 20,
      "outputs": [
        {
          "output_type": "execute_result",
          "data": {
            "text/plain": [
              "-1.0"
            ]
          },
          "metadata": {},
          "execution_count": 20
        }
      ]
    },
    {
      "cell_type": "markdown",
      "metadata": {
        "id": "uC46dbho7MJI"
      },
      "source": [
        "where I just came up with the variable name `pie`. You recognize that number of course, and not surprisingly numpy also has a built-in $\\pi$."
      ]
    },
    {
      "cell_type": "code",
      "metadata": {
        "colab": {
          "base_uri": "https://localhost:8080/"
        },
        "id": "WCWzZg7K7Q2B",
        "outputId": "a53b3d6a-10e0-4d50-8e18-adcce1e94807"
      },
      "source": [
        "np.pi"
      ],
      "execution_count": 21,
      "outputs": [
        {
          "output_type": "execute_result",
          "data": {
            "text/plain": [
              "3.141592653589793"
            ]
          },
          "metadata": {},
          "execution_count": 21
        }
      ]
    },
    {
      "cell_type": "markdown",
      "metadata": {
        "id": "CHdB0hrw7sFH"
      },
      "source": [
        "as an asside, unlike Matlab scripts, unfortunately jupyter only prints the last output if you put multiple statements in a code cell, e.g."
      ]
    },
    {
      "cell_type": "code",
      "metadata": {
        "colab": {
          "base_uri": "https://localhost:8080/"
        },
        "id": "HsuQ93E_72z4",
        "outputId": "d6cf316b-6f60-4fa1-8126-f6b17257ea7f"
      },
      "source": [
        "np.pi\n",
        "np.cos(np.pi)"
      ],
      "execution_count": 22,
      "outputs": [
        {
          "output_type": "execute_result",
          "data": {
            "text/plain": [
              "-1.0"
            ]
          },
          "metadata": {},
          "execution_count": 22
        }
      ]
    },
    {
      "cell_type": "markdown",
      "metadata": {
        "id": "gkDK11dF76jX"
      },
      "source": [
        "if you want more output from a single cell, you have to provide some formatting yourself, which is straighforward enough with `print` commands. "
      ]
    },
    {
      "cell_type": "code",
      "metadata": {
        "colab": {
          "base_uri": "https://localhost:8080/"
        },
        "id": "zzHvxCg48Flu",
        "outputId": "2b6bd095-2f30-4a59-a100-65c531089746"
      },
      "source": [
        "print(\"Here is numpy's built-in pi value:\", np.pi)\n",
        "\n",
        "# lines starting with # are not executed and allow you to put comments in your code\n",
        "# For example, let's assign the numpy pi value to my own variable name pie\n",
        "pie = np.pi \n",
        "# and now take the cosine again:\n",
        "np.cos(pie)\n",
        "# and explicitly provide a print-out/return statement:\n",
        "print(\"The cosine of\", pie, \" is \", np.cos(pie))"
      ],
      "execution_count": 23,
      "outputs": [
        {
          "output_type": "stream",
          "text": [
            "Here is numpy's built-in pi value: 3.141592653589793\n",
            "The cosine of 3.141592653589793  is  -1.0\n"
          ],
          "name": "stdout"
        }
      ]
    },
    {
      "cell_type": "markdown",
      "metadata": {
        "id": "sFtOoQz18vpa"
      },
      "source": [
        "note that that last print statement mixes texts, a numerical variable `pie`, and even a function call `np.cos(pie)` that is executed right from within the print statement. \n",
        "\n",
        "Finally, we typically also want to assign the result/output from a function to another variable, like:"
      ]
    },
    {
      "cell_type": "code",
      "metadata": {
        "id": "GQBVJD1n9Huk"
      },
      "source": [
        "cos_pie = np.cos(pie)"
      ],
      "execution_count": 24,
      "outputs": []
    },
    {
      "cell_type": "markdown",
      "metadata": {
        "id": "M3y7PnbU9Sid"
      },
      "source": [
        "note that this does not print the result, but we can now just type to see the value of `cos_pie`:"
      ]
    },
    {
      "cell_type": "code",
      "metadata": {
        "colab": {
          "base_uri": "https://localhost:8080/"
        },
        "id": "oVfaJRmi9ctv",
        "outputId": "430ebd04-1026-4835-c046-10f790ba3cac"
      },
      "source": [
        "cos_pie"
      ],
      "execution_count": 25,
      "outputs": [
        {
          "output_type": "execute_result",
          "data": {
            "text/plain": [
              "-1.0"
            ]
          },
          "metadata": {},
          "execution_count": 25
        }
      ]
    },
    {
      "cell_type": "markdown",
      "metadata": {
        "id": "LSMtfA5p9jfw"
      },
      "source": [
        "or we could have done it more explicitly with print commands:"
      ]
    },
    {
      "cell_type": "code",
      "metadata": {
        "colab": {
          "base_uri": "https://localhost:8080/"
        },
        "id": "QBgcVbHR9oOP",
        "outputId": "74537028-d1b6-4ac5-934d-3e4d9c4b1758"
      },
      "source": [
        "pie = np.pi\n",
        "cos_pie = np.cos(pie)\n",
        "\n",
        "print(\"The cosine of\", pie, \" is \", cos_pie)\n"
      ],
      "execution_count": 26,
      "outputs": [
        {
          "output_type": "stream",
          "text": [
            "The cosine of 3.141592653589793  is  -1.0\n"
          ],
          "name": "stdout"
        }
      ]
    },
    {
      "cell_type": "markdown",
      "metadata": {
        "id": "p0xgBxaN904i"
      },
      "source": [
        "I cannot stress enough (from having taught this class many times) that the **names** of input/output variables don't matter, so you will get the exact same result with:"
      ]
    },
    {
      "cell_type": "code",
      "metadata": {
        "colab": {
          "base_uri": "https://localhost:8080/"
        },
        "id": "rOJT9q-E-NBk",
        "outputId": "227b60eb-19cc-4f95-a6c6-e63ab40ce87c"
      },
      "source": [
        "x = np.pi\n",
        "y = np.cos(x)\n",
        "print(\"The cosine of\", x, \" is \", y)"
      ],
      "execution_count": 27,
      "outputs": [
        {
          "output_type": "stream",
          "text": [
            "The cosine of 3.141592653589793  is  -1.0\n"
          ],
          "name": "stdout"
        }
      ]
    },
    {
      "cell_type": "markdown",
      "metadata": {
        "id": "GmGFspcqAGjB"
      },
      "source": [
        "but the correct *number* of inputs and outputs *does* matter, so if you call the cosine function with 2 inputs, for example, you will get an error (with the caveat that you *can* write functions with some required and some optional inputs/outputs):"
      ]
    },
    {
      "cell_type": "code",
      "metadata": {
        "colab": {
          "base_uri": "https://localhost:8080/",
          "height": 164
        },
        "id": "s2DDnSTkANn7",
        "outputId": "c06b2e72-dd72-42a8-d1dd-729163f70d95"
      },
      "source": [
        "np.cos(x,y)"
      ],
      "execution_count": 28,
      "outputs": [
        {
          "output_type": "error",
          "ename": "TypeError",
          "evalue": "ignored",
          "traceback": [
            "\u001b[0;31m---------------------------------------------------------------------------\u001b[0m",
            "\u001b[0;31mTypeError\u001b[0m                                 Traceback (most recent call last)",
            "\u001b[0;32m<ipython-input-28-f41d5b9b55d3>\u001b[0m in \u001b[0;36m<module>\u001b[0;34m()\u001b[0m\n\u001b[0;32m----> 1\u001b[0;31m \u001b[0mnp\u001b[0m\u001b[0;34m.\u001b[0m\u001b[0mcos\u001b[0m\u001b[0;34m(\u001b[0m\u001b[0mx\u001b[0m\u001b[0;34m,\u001b[0m\u001b[0my\u001b[0m\u001b[0;34m)\u001b[0m\u001b[0;34m\u001b[0m\u001b[0;34m\u001b[0m\u001b[0m\n\u001b[0m",
            "\u001b[0;31mTypeError\u001b[0m: return arrays must be of ArrayType"
          ]
        }
      ]
    },
    {
      "cell_type": "markdown",
      "metadata": {
        "id": "yI7K2-Dm-c1C"
      },
      "source": [
        "To the second earlier point, in this case you don't really know what happens inside that `np.cos` function, because you did not write it yourself. So let's write a basic function outselves. For demonstration purposes, let's write a simple function that does the exact same thing as np.cos (and in fact using np.cos to do so). The structure of a function in python is as follows:"
      ]
    },
    {
      "cell_type": "code",
      "metadata": {
        "id": "JAjuWZfnA4KV"
      },
      "source": [
        "def my_own_cos(one_input):\n",
        "  one_output = np.cos(one_input)\n",
        "  return one_output"
      ],
      "execution_count": 29,
      "outputs": []
    },
    {
      "cell_type": "markdown",
      "metadata": {
        "id": "9dF4HU41BC9o"
      },
      "source": [
        "So `def` says that this is a function, followed by whatever name you want to give your function (in this case I named it `my_own_cos`), and then in parentheses whatever the inputs are, assigning one variable name to each input (in this case just one, `one_input`). \n",
        "\n",
        "Next you see the colon, and the following lines contain what the function actually does. **Importantly**: the indentation here matters, unlike in Matlab and many other languages. Note that there is no 'end function' type of statement, because python will simply interpret the first line that does not have the same indentation as no longer being part of the function (try it out!).\n",
        "\n",
        "Finally, you have to explicitly tell python what the output of your function is using the `return` statement.  \n",
        "\n",
        "Let's see if this works:"
      ]
    },
    {
      "cell_type": "code",
      "metadata": {
        "colab": {
          "base_uri": "https://localhost:8080/"
        },
        "id": "aw4FvglrBDqt",
        "outputId": "e1eddc79-110c-4673-89f2-503358ca3d83"
      },
      "source": [
        "x = np.pi\n",
        "y = my_own_cos(x)\n",
        "print(\"The cosine of\", x, \" is \", y)"
      ],
      "execution_count": 30,
      "outputs": [
        {
          "output_type": "stream",
          "text": [
            "The cosine of 3.141592653589793  is  -1.0\n"
          ],
          "name": "stdout"
        }
      ]
    },
    {
      "cell_type": "markdown",
      "metadata": {
        "id": "fC0d78x4LigI"
      },
      "source": [
        "We can also double check if our function is indeed the same as the numpy cosine function by using the boolean is-equal-to operator `==` (which is different from the single `= `equality sign that *assigns* a value to a variable)."
      ]
    },
    {
      "cell_type": "code",
      "metadata": {
        "colab": {
          "base_uri": "https://localhost:8080/"
        },
        "id": "c6KyX9QmLzlu",
        "outputId": "0d83cd61-88f6-4662-a889-8ed769172256"
      },
      "source": [
        "my_own_cos(x) == np.cos(x)"
      ],
      "execution_count": 31,
      "outputs": [
        {
          "output_type": "execute_result",
          "data": {
            "text/plain": [
              "True"
            ]
          },
          "metadata": {},
          "execution_count": 31
        }
      ]
    },
    {
      "cell_type": "markdown",
      "metadata": {
        "id": "Kr1PDMR0ML7h"
      },
      "source": [
        "which returns `True`, because indeed both have the same value (try what happens when you change the left or right side, e.g. to `np.sin` or by adding a number)."
      ]
    },
    {
      "cell_type": "markdown",
      "metadata": {
        "id": "pppuMX3NCdZc"
      },
      "source": [
        "To clarify/illustrate what I mean by the statement that 'what happens inside a function stays in a function' (and showing how lines after a function that are not indented are just intepreted as 'regular code'):"
      ]
    },
    {
      "cell_type": "code",
      "metadata": {
        "colab": {
          "base_uri": "https://localhost:8080/",
          "height": 198
        },
        "id": "yNGTr2u3Ct0m",
        "outputId": "cc648695-d8e3-4f06-9c8b-04605166c37e"
      },
      "source": [
        "def my_own_function(one_input):\n",
        "\n",
        "  a = 10\n",
        "  b = 20\n",
        "  c = a + b\n",
        "  one_output = a*np.cos(one_input - b) + c \n",
        "  return one_output\n",
        "\n",
        "a  "
      ],
      "execution_count": 33,
      "outputs": [
        {
          "output_type": "error",
          "ename": "NameError",
          "evalue": "ignored",
          "traceback": [
            "\u001b[0;31m---------------------------------------------------------------------------\u001b[0m",
            "\u001b[0;31mNameError\u001b[0m                                 Traceback (most recent call last)",
            "\u001b[0;32m<ipython-input-33-edb5042dd553>\u001b[0m in \u001b[0;36m<module>\u001b[0;34m()\u001b[0m\n\u001b[1;32m      7\u001b[0m   \u001b[0;32mreturn\u001b[0m \u001b[0mone_output\u001b[0m\u001b[0;34m\u001b[0m\u001b[0;34m\u001b[0m\u001b[0m\n\u001b[1;32m      8\u001b[0m \u001b[0;34m\u001b[0m\u001b[0m\n\u001b[0;32m----> 9\u001b[0;31m \u001b[0ma\u001b[0m\u001b[0;34m\u001b[0m\u001b[0;34m\u001b[0m\u001b[0m\n\u001b[0m",
            "\u001b[0;31mNameError\u001b[0m: name 'a' is not defined"
          ]
        }
      ]
    },
    {
      "cell_type": "code",
      "metadata": {
        "colab": {
          "base_uri": "https://localhost:8080/"
        },
        "id": "WQWeC8F-DCY8",
        "outputId": "8a286542-f1c7-47ef-c786-66d72c5f752a"
      },
      "source": [
        "x = np.pi\n",
        "y = my_own_function(x)\n",
        "y"
      ],
      "execution_count": 34,
      "outputs": [
        {
          "output_type": "execute_result",
          "data": {
            "text/plain": [
              "25.91917938186608"
            ]
          },
          "metadata": {},
          "execution_count": 34
        }
      ]
    },
    {
      "cell_type": "markdown",
      "metadata": {
        "id": "-mQZWvdhDMaX"
      },
      "source": [
        "So `a, b, c` and any other variables you may need to construct your function can be defined inside the function, but only the specific `return` variable is (as the name suggests) returned. The other variables are 'destroyed' after the function has been called.\n",
        "\n",
        "Functions can have as many input and output variables as you need, though, so in the above example, if we wanted, we could for instance also export `a, b, c`. \n"
      ]
    },
    {
      "cell_type": "code",
      "metadata": {
        "colab": {
          "base_uri": "https://localhost:8080/"
        },
        "id": "5iSBGCHMDyRB",
        "outputId": "62bd80cd-f871-4412-cb73-edd68e6f5296"
      },
      "source": [
        "def my_own_function(one_input):\n",
        "\n",
        "  a = 10\n",
        "  b = 20\n",
        "  c = a + b\n",
        "  one_output = a*np.cos(one_input - b) + c \n",
        "  return one_output, a, b, c\n",
        "\n",
        "\n",
        "x = np.pi\n",
        "my_own_function(x)"
      ],
      "execution_count": 35,
      "outputs": [
        {
          "output_type": "execute_result",
          "data": {
            "text/plain": [
              "(25.91917938186608, 10, 20, 30)"
            ]
          },
          "metadata": {},
          "execution_count": 35
        }
      ]
    },
    {
      "cell_type": "markdown",
      "metadata": {
        "id": "FEFGzv5sEM63"
      },
      "source": [
        "And we can have multiple inputs, so we could modify the above function a little to allow a user to specify different `a `and `b` each time:"
      ]
    },
    {
      "cell_type": "code",
      "metadata": {
        "colab": {
          "base_uri": "https://localhost:8080/"
        },
        "id": "WNiefbkhEXYb",
        "outputId": "5480b99a-3886-4a77-d14c-e12cfcb19372"
      },
      "source": [
        "input1 = 10\n",
        "input2 = 20\n",
        "\n",
        "def my_own_function(one_input, a, b):\n",
        "  \"\"\"This functions takes inputs x, a, b \n",
        "  and computes a*cos(x-b)+c.\"\"\"\n",
        "  \n",
        "  c = a + b\n",
        "  one_output = a*np.cos(one_input - b) + c \n",
        "  return one_output, a, b, c\n",
        "\n",
        "x = np.pi\n",
        "my_own_function(x, input1, input2)"
      ],
      "execution_count": 96,
      "outputs": [
        {
          "output_type": "execute_result",
          "data": {
            "text/plain": [
              "(25.91917938186608, 10, 20, 30)"
            ]
          },
          "metadata": {},
          "execution_count": 96
        }
      ]
    },
    {
      "cell_type": "markdown",
      "metadata": {
        "id": "vFPQq3vsEj-o"
      },
      "source": [
        "Note a few things here: \n",
        "\n",
        "*   first we assign two values to variables input1 and input2\n",
        "*   only lines 4-10 are the function, and this function now takes 3 inputs and returns 4 outputs (the same ones as before)\n",
        "*   we introduced the good practice of adding a 'doc string' in lines 5-6 which describes what this function does; now if you hover over this function name (in colab) you will see this description in the pop-up window (just like for any built-in function).\n",
        "*   lines 12 and 13 are not part of the function (not indented), and we call the function with 3 inputs: `x, input1, input2`, *which are not the same names as those we use inside the function definition*, because those don't matter. Only the correct nr of inputs and outputs. \n",
        "\n"
      ]
    },
    {
      "cell_type": "markdown",
      "metadata": {
        "id": "YIx6ZgbgF2zl"
      },
      "source": [
        "**Suggestion**\n",
        "\n",
        "Similar to my comment regarding the loading of function(ality) like we did from `numpy`, I find it good practice to try and define functions in the top of a larger program because they can only be used after they are defined (python reads from top to bottom just like humans, unlike compiler languages which allow more complicated organization that is sorted out in the compilation process/instructions). "
      ]
    },
    {
      "cell_type": "markdown",
      "metadata": {
        "id": "C4cWgQNLGvri"
      },
      "source": [
        "### Functions operating on vectors/arrays"
      ]
    },
    {
      "cell_type": "markdown",
      "metadata": {
        "id": "0BxDwSMfG3kd"
      },
      "source": [
        "One extremely useful thing that numpy has in common with Matlab is that functions operate on (all elements of) vectors and arrays exactly the same as on single numbers (scalars). Basically, all operations are done on arrays (=matrices), with vectors and scalars just being matrices with only one row and/or column. \n",
        "\n",
        "Let's see how this works. \n",
        "\n",
        "First, let's explicitly define a vector of 4 numbers as a numpy array (using the function `np.array`), specifically, the vector $(\\pi, 2\\pi, 3\\pi, 4\\pi)$, which we can define as such:\n"
      ]
    },
    {
      "cell_type": "code",
      "metadata": {
        "colab": {
          "base_uri": "https://localhost:8080/"
        },
        "id": "mLY9qyK8HhQi",
        "outputId": "ff23c495-164e-457c-9611-52c29b6c9349"
      },
      "source": [
        "some_row_vector = np.array([[1, 2, 3, 4]]) * pie/4\n",
        "some_row_vector"
      ],
      "execution_count": 37,
      "outputs": [
        {
          "output_type": "execute_result",
          "data": {
            "text/plain": [
              "array([[0.78539816, 1.57079633, 2.35619449, 3.14159265]])"
            ]
          },
          "metadata": {},
          "execution_count": 37
        }
      ]
    },
    {
      "cell_type": "markdown",
      "metadata": {
        "id": "HQCN_t9lHY_y"
      },
      "source": [
        "alternatively, we could define a column vector by using semi-columns instead of commas:"
      ]
    },
    {
      "cell_type": "code",
      "metadata": {
        "colab": {
          "base_uri": "https://localhost:8080/"
        },
        "id": "UPSYUjfZIWjA",
        "outputId": "269f4e4c-34c9-4fac-c826-d3ee4338ae78"
      },
      "source": [
        "some_column_vector = np.array([[1], [2], [3], [4]]) * pie/4\n",
        "some_column_vector"
      ],
      "execution_count": 38,
      "outputs": [
        {
          "output_type": "execute_result",
          "data": {
            "text/plain": [
              "array([[0.78539816],\n",
              "       [1.57079633],\n",
              "       [2.35619449],\n",
              "       [3.14159265]])"
            ]
          },
          "metadata": {},
          "execution_count": 38
        }
      ]
    },
    {
      "cell_type": "markdown",
      "metadata": {
        "id": "puWmd3yDJDCM"
      },
      "source": [
        "and we can create a 2 row, 3 column array as"
      ]
    },
    {
      "cell_type": "code",
      "metadata": {
        "colab": {
          "base_uri": "https://localhost:8080/"
        },
        "id": "I5brsXi8JHMg",
        "outputId": "d9b8dd11-2980-43c9-df44-129f56ba0049"
      },
      "source": [
        "some_array = np.array([[1, 2, 3, 4],[5, 6, 7, 8]]) * pie/4\n",
        "some_array"
      ],
      "execution_count": 39,
      "outputs": [
        {
          "output_type": "execute_result",
          "data": {
            "text/plain": [
              "array([[0.78539816, 1.57079633, 2.35619449, 3.14159265],\n",
              "       [3.92699082, 4.71238898, 5.49778714, 6.28318531]])"
            ]
          },
          "metadata": {},
          "execution_count": 39
        }
      ]
    },
    {
      "cell_type": "markdown",
      "metadata": {
        "id": "aLJ4Pn7uJwSi"
      },
      "source": [
        "Now we can call our own cosine function and still give it only 1 input variable, but that variable can be a vector/array instead of just a single number:"
      ]
    },
    {
      "cell_type": "code",
      "metadata": {
        "colab": {
          "base_uri": "https://localhost:8080/"
        },
        "id": "oOc8msdUJoXw",
        "outputId": "b94e6801-d766-4da9-e998-5da762a8cfec"
      },
      "source": [
        "my_own_cos(some_row_vector)"
      ],
      "execution_count": 40,
      "outputs": [
        {
          "output_type": "execute_result",
          "data": {
            "text/plain": [
              "array([[ 7.07106781e-01,  6.12323400e-17, -7.07106781e-01,\n",
              "        -1.00000000e+00]])"
            ]
          },
          "metadata": {},
          "execution_count": 40
        }
      ]
    },
    {
      "cell_type": "markdown",
      "metadata": {
        "id": "DjPQj3OJJ6W1"
      },
      "source": [
        "not surprisingly, I hope, the output is then also a vector of the same dimensions and in this case each element of that vector is the cosine of the corresponding element of the input vector. \n",
        "\n",
        "We can do the same for the column vector:"
      ]
    },
    {
      "cell_type": "code",
      "metadata": {
        "colab": {
          "base_uri": "https://localhost:8080/"
        },
        "id": "LgVPmzJrKIrE",
        "outputId": "53498958-c789-4f9d-ce0c-9bc4a0082103"
      },
      "source": [
        "my_own_cos(some_column_vector)"
      ],
      "execution_count": 41,
      "outputs": [
        {
          "output_type": "execute_result",
          "data": {
            "text/plain": [
              "array([[ 7.07106781e-01],\n",
              "       [ 6.12323400e-17],\n",
              "       [-7.07106781e-01],\n",
              "       [-1.00000000e+00]])"
            ]
          },
          "metadata": {},
          "execution_count": 41
        }
      ]
    },
    {
      "cell_type": "markdown",
      "metadata": {
        "id": "XAiiq73DKSEY"
      },
      "source": [
        "and the array"
      ]
    },
    {
      "cell_type": "code",
      "metadata": {
        "colab": {
          "base_uri": "https://localhost:8080/"
        },
        "id": "9Nd0H44fKLcc",
        "outputId": "4e633283-163c-4f15-b8ee-f9ee4a152aaf"
      },
      "source": [
        "cos_of_array = my_own_cos(some_array)\n",
        "cos_of_array"
      ],
      "execution_count": 42,
      "outputs": [
        {
          "output_type": "execute_result",
          "data": {
            "text/plain": [
              "array([[ 7.07106781e-01,  6.12323400e-17, -7.07106781e-01,\n",
              "        -1.00000000e+00],\n",
              "       [-7.07106781e-01, -1.83697020e-16,  7.07106781e-01,\n",
              "         1.00000000e+00]])"
            ]
          },
          "metadata": {},
          "execution_count": 42
        }
      ]
    },
    {
      "cell_type": "markdown",
      "metadata": {
        "id": "QeaQ2GZLKTn3"
      },
      "source": [
        "where in this case I *assigned* the output of the function to a variable name. "
      ]
    },
    {
      "cell_type": "markdown",
      "metadata": {
        "id": "vPo4bv8cKjAz"
      },
      "source": [
        "**Suggestion**\n",
        "\n",
        "Numpy, just like Matlab, has various useful functions to quickly generate (often large) vectors/arrays, rather than having to type out many values. These arrays can be initialized/populated with all zeros, all ones, or some linear increments. Play around a little with the following cells to see how these work:"
      ]
    },
    {
      "cell_type": "code",
      "metadata": {
        "colab": {
          "base_uri": "https://localhost:8080/"
        },
        "id": "Vc2D3py2LN6I",
        "outputId": "420f6507-2c53-42aa-adb9-534a0b8bd76f"
      },
      "source": [
        "np.zeros([2,3])"
      ],
      "execution_count": 43,
      "outputs": [
        {
          "output_type": "execute_result",
          "data": {
            "text/plain": [
              "array([[0., 0., 0.],\n",
              "       [0., 0., 0.]])"
            ]
          },
          "metadata": {},
          "execution_count": 43
        }
      ]
    },
    {
      "cell_type": "code",
      "metadata": {
        "colab": {
          "base_uri": "https://localhost:8080/"
        },
        "id": "hxVfixreLVSm",
        "outputId": "d17b2dda-b932-4562-bbb9-bce9e1f244a1"
      },
      "source": [
        "np.ones([4,2])"
      ],
      "execution_count": 44,
      "outputs": [
        {
          "output_type": "execute_result",
          "data": {
            "text/plain": [
              "array([[1., 1.],\n",
              "       [1., 1.],\n",
              "       [1., 1.],\n",
              "       [1., 1.]])"
            ]
          },
          "metadata": {},
          "execution_count": 44
        }
      ]
    },
    {
      "cell_type": "code",
      "metadata": {
        "colab": {
          "base_uri": "https://localhost:8080/"
        },
        "id": "lZUqw0oOLbIV",
        "outputId": "38503864-80f6-41a4-bb23-b12d8f25b7e6"
      },
      "source": [
        "np.linspace(1,10,10)"
      ],
      "execution_count": 45,
      "outputs": [
        {
          "output_type": "execute_result",
          "data": {
            "text/plain": [
              "array([ 1.,  2.,  3.,  4.,  5.,  6.,  7.,  8.,  9., 10.])"
            ]
          },
          "metadata": {},
          "execution_count": 45
        }
      ]
    },
    {
      "cell_type": "code",
      "metadata": {
        "colab": {
          "base_uri": "https://localhost:8080/"
        },
        "id": "A2f6Q0aCMf_3",
        "outputId": "5c01ad4e-f7dd-4e9b-8a24-f8c260cb889d"
      },
      "source": [
        "np.linspace(0,10,6)"
      ],
      "execution_count": 46,
      "outputs": [
        {
          "output_type": "execute_result",
          "data": {
            "text/plain": [
              "array([ 0.,  2.,  4.,  6.,  8., 10.])"
            ]
          },
          "metadata": {},
          "execution_count": 46
        }
      ]
    },
    {
      "cell_type": "markdown",
      "metadata": {
        "id": "ytU5v3CeMyiW"
      },
      "source": [
        "which we can use to create more non-trivial areas like"
      ]
    },
    {
      "cell_type": "code",
      "metadata": {
        "colab": {
          "base_uri": "https://localhost:8080/"
        },
        "id": "u5zidb8-M4ij",
        "outputId": "b2dad216-d339-447f-cff6-1fae94f1c777"
      },
      "source": [
        "x = np.linspace(1,10,50) * np.pi/4\n",
        "x"
      ],
      "execution_count": 47,
      "outputs": [
        {
          "output_type": "execute_result",
          "data": {
            "text/plain": [
              "array([0.78539816, 0.92965497, 1.07391177, 1.21816858, 1.36242539,\n",
              "       1.50668219, 1.650939  , 1.7951958 , 1.93945261, 2.08370941,\n",
              "       2.22796622, 2.37222302, 2.51647983, 2.66073664, 2.80499344,\n",
              "       2.94925025, 3.09350705, 3.23776386, 3.38202066, 3.52627747,\n",
              "       3.67053427, 3.81479108, 3.95904788, 4.10330469, 4.2475615 ,\n",
              "       4.3918183 , 4.53607511, 4.68033191, 4.82458872, 4.96884552,\n",
              "       5.11310233, 5.25735913, 5.40161594, 5.54587275, 5.69012955,\n",
              "       5.83438636, 5.97864316, 6.12289997, 6.26715677, 6.41141358,\n",
              "       6.55567038, 6.69992719, 6.844184  , 6.9884408 , 7.13269761,\n",
              "       7.27695441, 7.42121122, 7.56546802, 7.70972483, 7.85398163])"
            ]
          },
          "metadata": {},
          "execution_count": 47
        }
      ]
    },
    {
      "cell_type": "markdown",
      "metadata": {
        "id": "xiJSSwX2NpBb"
      },
      "source": [
        "Then use the function we wrote and make a quick plot, exactly how you would in Matlab except for the plt prefix (to indicate that we use the plot function from the matplotlib plotting library). "
      ]
    },
    {
      "cell_type": "code",
      "metadata": {
        "colab": {
          "base_uri": "https://localhost:8080/",
          "height": 265
        },
        "id": "wweRjhW4NNoj",
        "outputId": "23aaa13e-97d0-473b-d818-82adb1c7756a"
      },
      "source": [
        "plt.plot(x, my_own_cos(x) );"
      ],
      "execution_count": 48,
      "outputs": [
        {
          "output_type": "display_data",
          "data": {
            "image/png": "[encoded data removed]",
            "text/plain": [
              "<Figure size 432x288 with 1 Axes>"
            ]
          },
          "metadata": {
            "needs_background": "light"
          }
        }
      ]
    },
    {
      "cell_type": "markdown",
      "metadata": {
        "id": "wAwF5yN3N_2c"
      },
      "source": [
        "Mixing and matching our own cosine function with the numpy sine function and plotting both together:"
      ]
    },
    {
      "cell_type": "code",
      "metadata": {
        "colab": {
          "base_uri": "https://localhost:8080/",
          "height": 265
        },
        "id": "_mMxByOBN6qL",
        "outputId": "cd33cb53-dbc1-45db-cbf8-d9628f031c4e"
      },
      "source": [
        "plt.plot(x, my_own_cos(x) );\n",
        "\n",
        "plt.plot(x, np.sin(x) );"
      ],
      "execution_count": 49,
      "outputs": [
        {
          "output_type": "display_data",
          "data": {
            "image/png": "[encoded data removed]",
            "text/plain": [
              "<Figure size 432x288 with 1 Axes>"
            ]
          },
          "metadata": {
            "needs_background": "light"
          }
        }
      ]
    },
    {
      "cell_type": "markdown",
      "metadata": {
        "id": "08yyAy7NPWN3"
      },
      "source": [
        "### Working with arrays/matrices in python "
      ]
    },
    {
      "cell_type": "markdown",
      "metadata": {
        "id": "d-U4W7qcPb6u"
      },
      "source": [
        "Just like in Matlab, python's numpy allows you to perform basic operations on arrays just like you would on scalar (single numbers):"
      ]
    },
    {
      "cell_type": "code",
      "metadata": {
        "id": "kxR0U8ghOgNk"
      },
      "source": [
        "# create a vector (1, 2, 3, 4, 5, 6)\n",
        "vect = np.linspace(1,6,6)\n",
        "\n",
        "# we can now 'reshape' (just as in Matlab) these numbers into a 2x3 array:\n",
        "array = np.reshape(vect,[2,3])\n",
        "\n",
        "# you can add/subtract/multiply/divide with a scalar, which will \n",
        "# add/subtract/multiply/divide that scalar from each element in the array\n",
        "array2 = 7 - array \n",
        "\n",
        "array3 = array + array2\n",
        "\n",
        "array4 = array - array2\n",
        "\n",
        "array5 =  array * array2\n",
        "\n",
        "array6 =  array / array2\n",
        "\n",
        "array7 = np.cos(array)\n",
        "\n",
        "array8 = np.exp(1./array)"
      ],
      "execution_count": 50,
      "outputs": []
    },
    {
      "cell_type": "markdown",
      "metadata": {
        "id": "i7TEV24ZR5I5"
      },
      "source": [
        "use the cell below (or as many as you want) to explore what the results of these operations look like."
      ]
    },
    {
      "cell_type": "code",
      "metadata": {
        "colab": {
          "base_uri": "https://localhost:8080/"
        },
        "id": "fcvSIiuURySb",
        "outputId": "446ccc23-857c-4a09-ba91-1d77ce2c963e"
      },
      "source": [
        "array8"
      ],
      "execution_count": 51,
      "outputs": [
        {
          "output_type": "execute_result",
          "data": {
            "text/plain": [
              "array([[2.71828183, 1.64872127, 1.39561243],\n",
              "       [1.28402542, 1.22140276, 1.18136041]])"
            ]
          },
          "metadata": {},
          "execution_count": 51
        }
      ]
    },
    {
      "cell_type": "markdown",
      "metadata": {
        "id": "ZVNWLLPhSAn2"
      },
      "source": [
        "**Important Note** \n",
        "\n",
        "It is critical to keep in mind, though, that some of the above are not proper algebraic operations on vectors/matrices, but rather simply performing the same operation on each element of an array; arrays are treated just as a bunch of numbers organized in some way convenient to you in vectors or multidimensional arrays. Instead of writing complicated loops to add/subtract/multiply etc each element of such a collection, you can do it in very succint notation as in the cells above. \n",
        "\n",
        "For *some* of the operation, this is the same as proper algebra. Specifically, the addition or subtraction of 2 matrices is indeed the same as adding or subtracting each of its elements, *and therefore both matrices have to have the same size*. However, for other operation such as matrix multiplication or division, it is not. For example, for a proper multiplication like $C = A*B$, if $A$ is a $2\\times 3$ matrix then $B$ has to have dimensions $3\\times N$ (where $N$ can be any number) and the size of matrix $C$ will be $2\\times N$. If you remember your algebra, each element of a row in $A$ will be multiplied (and then added up) by each element or a corresponding column of $B$.  \n",
        "\n",
        "To do 'proper' algebra in python/numpy you can use its '`.`' operations on variables, which is pretty convenient in writing code but definitely different (and therefore perhaps confusing) from other languages. Let's look at some examples. "
      ]
    },
    {
      "cell_type": "markdown",
      "metadata": {
        "id": "nhbgUCLtVvqS"
      },
      "source": [
        "First, let's take the *transpose* of the matrix/array we defined earlier:"
      ]
    },
    {
      "cell_type": "code",
      "metadata": {
        "colab": {
          "base_uri": "https://localhost:8080/"
        },
        "id": "k4Viw638V6Vg",
        "outputId": "faad812a-c793-41e3-e474-9ccd5fbcba58"
      },
      "source": [
        "print(\"This is the array we defined before\\n\\n\", array) # note the \\n line breaks\n",
        "\n",
        "# To take the transpose of this array, simply add .T to the end. \n",
        "# and the we assign those values to a new variable array_transpose\n",
        "array_transpose = array.T\n",
        "\n",
        "\n",
        "print(\"This is the transpose of the array we defined before\\n\\n\", array_transpose)"
      ],
      "execution_count": 52,
      "outputs": [
        {
          "output_type": "stream",
          "text": [
            "This is the array we defined before\n",
            "\n",
            " [[1. 2. 3.]\n",
            " [4. 5. 6.]]\n",
            "This is the transpose of the array we defined before\n",
            "\n",
            " [[1. 4.]\n",
            " [2. 5.]\n",
            " [3. 6.]]\n"
          ],
          "name": "stdout"
        }
      ]
    },
    {
      "cell_type": "markdown",
      "metadata": {
        "id": "fxsfOtX6Wbct"
      },
      "source": [
        "The reason I did this is that now we have 2 arrays/matrices with dimensions that allow a proper matrix multiplication (the nr of columns of the first one equals the nr of rows of the second one). To do proper multiplication of arrays (which includes vectors as a subset) you can use the `.dot` operator. "
      ]
    },
    {
      "cell_type": "code",
      "metadata": {
        "colab": {
          "base_uri": "https://localhost:8080/"
        },
        "id": "thPXyxdGWw-5",
        "outputId": "838601bf-50d6-4053-e535-cb1fb9deede2"
      },
      "source": [
        "array.dot(array_transpose)"
      ],
      "execution_count": 53,
      "outputs": [
        {
          "output_type": "execute_result",
          "data": {
            "text/plain": [
              "array([[14., 32.],\n",
              "       [32., 77.]])"
            ]
          },
          "metadata": {},
          "execution_count": 53
        }
      ]
    },
    {
      "cell_type": "markdown",
      "metadata": {
        "id": "aEdiJpfVXA78"
      },
      "source": [
        "another example where the second matrix has $3\\times 6$ elements:"
      ]
    },
    {
      "cell_type": "code",
      "metadata": {
        "colab": {
          "base_uri": "https://localhost:8080/"
        },
        "id": "NuBxP4bIXJ3H",
        "outputId": "a3baaacd-ecb1-4efb-f6ae-ee2b6f47f124"
      },
      "source": [
        "new_matrix = np.ones([3,6])\n",
        "\n",
        "\n",
        "print(\"A 3x6 matrix of all ones\\n\\n\", new_matrix)\n",
        "\n",
        "matrix_product = array.dot(new_matrix)\n",
        "\n",
        "print(\"Product of same matrix as before with this one\\n\\n\", matrix_product)"
      ],
      "execution_count": 54,
      "outputs": [
        {
          "output_type": "stream",
          "text": [
            "A 3x6 matrix of all ones\n",
            "\n",
            " [[1. 1. 1. 1. 1. 1.]\n",
            " [1. 1. 1. 1. 1. 1.]\n",
            " [1. 1. 1. 1. 1. 1.]]\n",
            "Product of same matrix as before with this one\n",
            "\n",
            " [[ 6.  6.  6.  6.  6.  6.]\n",
            " [15. 15. 15. 15. 15. 15.]]\n"
          ],
          "name": "stdout"
        }
      ]
    },
    {
      "cell_type": "markdown",
      "metadata": {
        "id": "Pz4L9v56ZPc1"
      },
      "source": [
        "## Conditional statements"
      ]
    },
    {
      "cell_type": "markdown",
      "metadata": {
        "id": "xj6_TKDYZUND"
      },
      "source": [
        "Every programming languange and almost every program uses conditional 'if-elseif-else' statements. The way these work is pretty self explanatory from an example:"
      ]
    },
    {
      "cell_type": "code",
      "metadata": {
        "colab": {
          "base_uri": "https://localhost:8080/"
        },
        "id": "rhQYf7IlaYTE",
        "outputId": "5cda5e36-062b-49ba-b643-b1dfff1d1f46"
      },
      "source": [
        "user_selection = 6\n",
        "\n",
        "if user_selection == 1 :\n",
        "  print(\"You selected option 1 and now this program will perform operation A.\")\n",
        "elif user_selection == 2 :\n",
        "  print(\"You selected option 2 and now this program will perform operation B.\")\n",
        "elif user_selection > 2 and user_selection <= 5 or user_selection == 13:\n",
        "  print(\"You selected option 3, 4, 5, or 13 and now this program will perform operation C.\")\n",
        "else :\n",
        "  print(\"You did not select options 1 or 2, so now this program will perform operation D.\")\n",
        "\n"
      ],
      "execution_count": 55,
      "outputs": [
        {
          "output_type": "stream",
          "text": [
            "You did not select options 1 or 2, so now this program will perform operation D.\n"
          ],
          "name": "stdout"
        }
      ]
    },
    {
      "cell_type": "markdown",
      "metadata": {
        "id": "UlrBbzIXa-sk"
      },
      "source": [
        "Some things to note: \n",
        "\n",
        "*   The conditional statements again use *boolean* 'is-equal-to' (`==`) , not the (`=`) assignment operation. Other boolean tests are larger-then, smaller-then, larger-or-equal etc., as shown in the third condition.\n",
        "*   Python unfortunately uses slightly different notation for the else-if (`elif`) statement from other programming languages. \n",
        "*   The indentation of the code within each condition is *required*. That's why there is not need for an end if statement at the end (which other languages, incl Matlab, have). Also, note the colon at the end of each if/elif/else condition.\n",
        "\n"
      ]
    },
    {
      "cell_type": "markdown",
      "metadata": {
        "id": "KG9TqsV0cvhr"
      },
      "source": [
        "Here's another example with a structure that could be useful in the next lab:"
      ]
    },
    {
      "cell_type": "code",
      "metadata": {
        "id": "ASLJGAhjZTPj"
      },
      "source": [
        "choose_a_function = 2\n",
        "\n",
        "\n",
        "if choose_a_function == 1:\n",
        "  def my_func(x,t):\n",
        "    return t*np.cos(x)\n",
        "elif choose_a_function == 2:\n",
        "  def my_func(x,t):\n",
        "    return np.sin(x) # note that this one does not actually depend on t, but that's allowed\n",
        "elif choose_a_function == 3:\n",
        "  def my_func(x,t):\n",
        "    return np.exp(x) * t**3    "
      ],
      "execution_count": 56,
      "outputs": []
    },
    {
      "cell_type": "markdown",
      "metadata": {
        "id": "YGnEQlr0di5i"
      },
      "source": [
        "## Loops"
      ]
    },
    {
      "cell_type": "markdown",
      "metadata": {
        "id": "5jcPvlCOdk0t"
      },
      "source": [
        "The final indispensable component of almost any coding is **loops**. Loops simply do the same operation many times. An **iterator** keeps track of how many times the content of the loop has been performed, although we can also use iterators that skip over larger intervals.\n",
        "\n",
        "The typical notation in python is slightly unusual and uses `range`. Examples are probably clearer than explanation alone:"
      ]
    },
    {
      "cell_type": "code",
      "metadata": {
        "colab": {
          "base_uri": "https://localhost:8080/"
        },
        "id": "RWKA9anFev0E",
        "outputId": "103a033e-476f-43a4-ae16-c1edd09484d6"
      },
      "source": [
        "for it in range(5):\n",
        "  print(\"The iterator is now\", it)"
      ],
      "execution_count": 57,
      "outputs": [
        {
          "output_type": "stream",
          "text": [
            "The iterator is now 0\n",
            "The iterator is now 1\n",
            "The iterator is now 2\n",
            "The iterator is now 3\n",
            "The iterator is now 4\n"
          ],
          "name": "stdout"
        }
      ]
    },
    {
      "cell_type": "markdown",
      "metadata": {
        "id": "5RJAqHzze5O6"
      },
      "source": [
        "In this example, the contents of the loop are executed 5 times, as indicated by `range(5)` and `it` keeps track of how many times we have done so. In this example, all we do is print the value of that iterator, but we donit actually have to *use* the iterator for anything. For example:"
      ]
    },
    {
      "cell_type": "code",
      "metadata": {
        "colab": {
          "base_uri": "https://localhost:8080/"
        },
        "id": "l4JK8ROjfQFu",
        "outputId": "312c6c84-fd3f-474d-b420-b9b3f8e44895"
      },
      "source": [
        "sum = 0\n",
        "\n",
        "for it in range(5):\n",
        "  sum = sum + 1\n",
        "\n",
        "\n",
        "print(\"Sum after the end of the loop is\", sum )  \n"
      ],
      "execution_count": 58,
      "outputs": [
        {
          "output_type": "stream",
          "text": [
            "Sum after the end of the loop is 5\n"
          ],
          "name": "stdout"
        }
      ]
    },
    {
      "cell_type": "markdown",
      "metadata": {
        "id": "bM7NbVsWffic"
      },
      "source": [
        "Note that as with the function `def` and the conditional `if` statements, `for` loops again start with a colon and then indented code blocks, *without* an `end for` statement. "
      ]
    },
    {
      "cell_type": "markdown",
      "metadata": {
        "id": "zS56iwAJfyqQ"
      },
      "source": [
        "As another example, we could code the dot product between 2 arrays as:"
      ]
    },
    {
      "cell_type": "code",
      "metadata": {
        "colab": {
          "base_uri": "https://localhost:8080/"
        },
        "id": "xLOR4yVzf3s4",
        "outputId": "42d58bc3-4cea-4b74-bef3-6ad3911fd08a"
      },
      "source": [
        "array1 = np.array([1,2,3,4])\n",
        "\n",
        "array2 = np.array([9,8,7,6]).T # use proper column vector for matrix operations\n",
        "\n",
        "dot_prod = 0\n",
        "for i in range(len(array1)):  # note the use of 'len', which is the length of the array1\n",
        "\n",
        "  print(\"In iteration\", i, \"we add the product of \", array1[i] , \"and\",  array2[i])\n",
        "\n",
        "  dot_prod = dot_prod + array1[i]  * array2[i]\n",
        "\n",
        "\n",
        "\n",
        "print(\"Dot product after the end of the loop is\", dot_prod )  \n"
      ],
      "execution_count": 90,
      "outputs": [
        {
          "output_type": "stream",
          "text": [
            "In iteration 0 we add the product of  1 and 9\n",
            "In iteration 1 we add the product of  2 and 8\n",
            "In iteration 2 we add the product of  3 and 7\n",
            "In iteration 3 we add the product of  4 and 6\n",
            "Dot product after the end of the loop is 70\n"
          ],
          "name": "stdout"
        }
      ]
    },
    {
      "cell_type": "markdown",
      "metadata": {
        "id": "ab6-S9Aeg0Wu"
      },
      "source": [
        "This type of code is very inefficient in an interpreter language like python or matlab, though, because the line `dot_prod = dot_prod + array1[i]  * array2[i]` has to be translated into machine language for each iteration. For just 5 iterations on a modern computer, that's clearly no big deal, but when we start working with million element grids, it is. Proper matrix operations are *far* more computationally efficient, because they only require a single line of code that has to be translated into machine language and the code to do so has been highly optimized for, e.g., multi-processor computers (parallel) etc. \n",
        "\n",
        "In this example, we should have used:"
      ]
    },
    {
      "cell_type": "code",
      "metadata": {
        "colab": {
          "base_uri": "https://localhost:8080/"
        },
        "id": "tW2t70nGe3JM",
        "outputId": "5a6d4a7c-4e78-41d6-e528-e8ee345b8f31"
      },
      "source": [
        "dot_prod_efficient = array1.dot(array2)\n",
        "dot_prod_efficient"
      ],
      "execution_count": 63,
      "outputs": [
        {
          "output_type": "execute_result",
          "data": {
            "text/plain": [
              "70"
            ]
          },
          "metadata": {},
          "execution_count": 63
        }
      ]
    },
    {
      "cell_type": "markdown",
      "metadata": {
        "id": "vVw2_b9CiphE"
      },
      "source": [
        "which, as you can see, is both far more elegant/short code and much faster. You can also see that the result is the same as the code above. "
      ]
    },
    {
      "cell_type": "markdown",
      "metadata": {
        "id": "uBsZlx5ui0-k"
      },
      "source": [
        "You may not need this, but the loop iterator can be a bit more complex too:"
      ]
    },
    {
      "cell_type": "code",
      "metadata": {
        "colab": {
          "base_uri": "https://localhost:8080/"
        },
        "id": "dLf4W95AinMT",
        "outputId": "eadd507b-5a13-4c7a-a7e4-89a8339c5ef9"
      },
      "source": [
        "# here the iterator runs from 5 to 28 in steps of 5 (as many as will 'fit')\n",
        "for it in range(5,28,5):\n",
        "  print(\"The iterator is now\", it)"
      ],
      "execution_count": 67,
      "outputs": [
        {
          "output_type": "stream",
          "text": [
            "The iterator is now 5\n",
            "The iterator is now 10\n",
            "The iterator is now 15\n",
            "The iterator is now 20\n",
            "The iterator is now 25\n"
          ],
          "name": "stdout"
        }
      ]
    },
    {
      "cell_type": "markdown",
      "metadata": {
        "id": "QfUxO5_9jTIz"
      },
      "source": [
        "## Selecting individual elements or sub-arrays from arrays."
      ]
    },
    {
      "cell_type": "markdown",
      "metadata": {
        "id": "BXQSCL7IjZX5"
      },
      "source": [
        "A *lot* of mathematical/algebraic coding requires you to work with sub-sets of arrays. Let's re-create the same vector and array as above (just in case you didn't run all the cells yet or made modifications): "
      ]
    },
    {
      "cell_type": "code",
      "metadata": {
        "colab": {
          "base_uri": "https://localhost:8080/"
        },
        "id": "Tle6J0Mbi9-Y",
        "outputId": "8d7a901c-7891-491d-aaab-6193411b2e4b"
      },
      "source": [
        "vect = np.linspace(1,6,6)\n",
        "array = np.reshape(vect,[2,3])\n",
        "\n",
        "\n",
        "print(\"This is our vector\\n\\n\", vect)\n",
        "\n",
        "print(\"\\n\\nAnd this is our array\\n\\n\", array)"
      ],
      "execution_count": 91,
      "outputs": [
        {
          "output_type": "stream",
          "text": [
            "This is our vector\n",
            "\n",
            " [1. 2. 3. 4. 5. 6.]\n",
            "\n",
            "\n",
            "And this is our array\n",
            "\n",
            " [[1. 2. 3.]\n",
            " [4. 5. 6.]]\n"
          ],
          "name": "stdout"
        }
      ]
    },
    {
      "cell_type": "markdown",
      "metadata": {
        "id": "If2O2QOmj-dA"
      },
      "source": [
        "To select just one element from the vector, you can use square brackets, like:"
      ]
    },
    {
      "cell_type": "code",
      "metadata": {
        "colab": {
          "base_uri": "https://localhost:8080/"
        },
        "id": "Z5z0Uvz1kDs8",
        "outputId": "e52b3fbf-b13f-4791-dc95-9571d43b6b06"
      },
      "source": [
        "vect[3]"
      ],
      "execution_count": 69,
      "outputs": [
        {
          "output_type": "execute_result",
          "data": {
            "text/plain": [
              "4.0"
            ]
          },
          "metadata": {},
          "execution_count": 69
        }
      ]
    },
    {
      "cell_type": "markdown",
      "metadata": {
        "id": "VF3ISm-pkG3i"
      },
      "source": [
        "Is that the number you expected, looking at the vector elements?\n",
        "\n",
        "Probably not. That is because in python (just like in c), indexing of elements starts from 0 rather than 1 (used in Matlab and, e.g., fortran). For someone like myself who also uses Matlab and Fortran, this is a huge headache and origin of many coding errors/bugs... But that's unfortunately the way it is in python so you really just have to get comfortable with it. \n",
        "\n",
        "So if we want the third element of the vector, we actually need to code `vect[2]`, because the elements are `vect[0], vect[1], vect[2], vect[3]`, etc. \n",
        "\n"
      ]
    },
    {
      "cell_type": "code",
      "metadata": {
        "colab": {
          "base_uri": "https://localhost:8080/"
        },
        "id": "C4LCcP19j7VV",
        "outputId": "6c9ab8fe-26a5-4d18-929d-ef1d692daa57"
      },
      "source": [
        "vect[2]"
      ],
      "execution_count": 70,
      "outputs": [
        {
          "output_type": "execute_result",
          "data": {
            "text/plain": [
              "3.0"
            ]
          },
          "metadata": {},
          "execution_count": 70
        }
      ]
    },
    {
      "cell_type": "markdown",
      "metadata": {
        "id": "WX4GEBtelUKu"
      },
      "source": [
        "More often than not, we don't want individual elements, though, but a *range* of elements, which we can get by using a column, as:"
      ]
    },
    {
      "cell_type": "code",
      "metadata": {
        "colab": {
          "base_uri": "https://localhost:8080/"
        },
        "id": "ocurrDF6lSRd",
        "outputId": "c413109b-8993-447b-bf43-1189e7a50a29"
      },
      "source": [
        "vect[2:4]"
      ],
      "execution_count": 71,
      "outputs": [
        {
          "output_type": "execute_result",
          "data": {
            "text/plain": [
              "array([3., 4.])"
            ]
          },
          "metadata": {},
          "execution_count": 71
        }
      ]
    },
    {
      "cell_type": "markdown",
      "metadata": {
        "id": "xzXJ0bH1ljuL"
      },
      "source": [
        "This is likely also a bit confusing: the last element in that range is not included. This is also because counting starts from 0. Our `vect` has 6 elements. Explore how you get more and more elements from the start by looking at the ranges inside the print statements:"
      ]
    },
    {
      "cell_type": "code",
      "metadata": {
        "colab": {
          "base_uri": "https://localhost:8080/"
        },
        "id": "tjYbWntLle27",
        "outputId": "cde18732-bd09-4653-b86b-fcc146f099c2"
      },
      "source": [
        "print(\"First element is\", vect[0])\n",
        "\n",
        "print(\"First two elements are\", vect[0:2])\n",
        "\n",
        "print(\"First three elements are\", vect[0:3])\n",
        "\n",
        "print(\"First four elements are\", vect[0:4])\n",
        "\n",
        "print(\"First five elements are\", vect[0:5])\n",
        "\n",
        "print(\"All 6 elements are\", vect[0:6])"
      ],
      "execution_count": 75,
      "outputs": [
        {
          "output_type": "stream",
          "text": [
            "First element is 1.0\n",
            "First two elements are [1. 2.]\n",
            "First three elements are [1. 2. 3.]\n",
            "First four elements are [1. 2. 3. 4.]\n",
            "First five elements are [1. 2. 3. 4. 5.]\n",
            "All 6 elements are [1. 2. 3. 4. 5. 6.]\n"
          ],
          "name": "stdout"
        }
      ]
    },
    {
      "cell_type": "markdown",
      "metadata": {
        "id": "g3mIBa3QmjwP"
      },
      "source": [
        "Youy already saw something similar above for the `range` used in a for `loop`:"
      ]
    },
    {
      "cell_type": "code",
      "metadata": {
        "colab": {
          "base_uri": "https://localhost:8080/"
        },
        "id": "5VwLQn7MmI33",
        "outputId": "45e5a6d4-f393-4561-b2ab-cec50ebd8140"
      },
      "source": [
        "for it in range(5):\n",
        "  print(\"The iterator is now\", it)"
      ],
      "execution_count": 76,
      "outputs": [
        {
          "output_type": "stream",
          "text": [
            "The iterator is now 0\n",
            "The iterator is now 1\n",
            "The iterator is now 2\n",
            "The iterator is now 3\n",
            "The iterator is now 4\n"
          ],
          "name": "stdout"
        }
      ]
    },
    {
      "cell_type": "markdown",
      "metadata": {
        "id": "2lnCkXucm0MX"
      },
      "source": [
        "where `range(5)` results in the numbers 0, 1, 2, 3, 4 (and not 5). Of course there are different ways we could get iterators 1, 2, 3, 4, 5 if we need those:"
      ]
    },
    {
      "cell_type": "code",
      "metadata": {
        "colab": {
          "base_uri": "https://localhost:8080/"
        },
        "id": "yO5U8xAzmupF",
        "outputId": "94873bb5-0221-40a5-dd4d-16259cd709e8"
      },
      "source": [
        "for it in range(5):\n",
        "  better_it = it+1\n",
        "  print(\"The iterator is now\", better_it)\n",
        "\n",
        "print(\"-----\\n\\n-----\")\n",
        "\n",
        "for better_it in range(1,6,1):\n",
        "  print(\"The iterator is now\", better_it)\n",
        "\n"
      ],
      "execution_count": 83,
      "outputs": [
        {
          "output_type": "stream",
          "text": [
            "The iterator is now 1\n",
            "The iterator is now 2\n",
            "The iterator is now 3\n",
            "The iterator is now 4\n",
            "The iterator is now 5\n",
            "-----\n",
            "\n",
            "-----\n",
            "The iterator is now 1\n",
            "The iterator is now 2\n",
            "The iterator is now 3\n",
            "The iterator is now 4\n",
            "The iterator is now 5\n"
          ],
          "name": "stdout"
        }
      ]
    },
    {
      "cell_type": "markdown",
      "metadata": {
        "id": "Ak3Sq5PKno0I"
      },
      "source": [
        "For arrays, we can subset in 2 (or more, e.g. for 3D grids) dimensions. If we want the first 2 numbers/columns in the first row, we would select:"
      ]
    },
    {
      "cell_type": "code",
      "metadata": {
        "colab": {
          "base_uri": "https://localhost:8080/"
        },
        "id": "pOyRjW39nPT7",
        "outputId": "2806ce9e-0d40-4d24-d107-70b2669e16d9"
      },
      "source": [
        "array[0,0:2]"
      ],
      "execution_count": 86,
      "outputs": [
        {
          "output_type": "execute_result",
          "data": {
            "text/plain": [
              "array([1., 2.])"
            ]
          },
          "metadata": {},
          "execution_count": 86
        }
      ]
    },
    {
      "cell_type": "markdown",
      "metadata": {
        "id": "FSTivybzn6PP"
      },
      "source": [
        "If you want the first 2 columns of *all* rows, you can use a colon without start/end indices:"
      ]
    },
    {
      "cell_type": "code",
      "metadata": {
        "colab": {
          "base_uri": "https://localhost:8080/"
        },
        "id": "po2BnYEhnhHa",
        "outputId": "41a28684-9277-4f4f-c71e-f099d5a93e9c"
      },
      "source": [
        "array[:,0:2]"
      ],
      "execution_count": 87,
      "outputs": [
        {
          "output_type": "execute_result",
          "data": {
            "text/plain": [
              "array([[1., 2.],\n",
              "       [4., 5.]])"
            ]
          },
          "metadata": {},
          "execution_count": 87
        }
      ]
    },
    {
      "cell_type": "markdown",
      "metadata": {
        "id": "UF-BuJXHoGCK"
      },
      "source": [
        "so the full array is:"
      ]
    },
    {
      "cell_type": "code",
      "metadata": {
        "colab": {
          "base_uri": "https://localhost:8080/"
        },
        "id": "FvhQuU6VoLms",
        "outputId": "2728639f-efd1-4638-f0fc-fb34fc9b218b"
      },
      "source": [
        "array[:,:]"
      ],
      "execution_count": 88,
      "outputs": [
        {
          "output_type": "execute_result",
          "data": {
            "text/plain": [
              "array([[1., 2., 3.],\n",
              "       [4., 5., 6.]])"
            ]
          },
          "metadata": {},
          "execution_count": 88
        }
      ]
    },
    {
      "cell_type": "markdown",
      "metadata": {
        "id": "nnlR2Mr4oOxF"
      },
      "source": [
        "and just the first row is "
      ]
    },
    {
      "cell_type": "code",
      "metadata": {
        "colab": {
          "base_uri": "https://localhost:8080/"
        },
        "id": "v3BnVIMMoTt6",
        "outputId": "2fe0efea-f502-41b7-8326-bd2a07d86d16"
      },
      "source": [
        "array[0,:]"
      ],
      "execution_count": 89,
      "outputs": [
        {
          "output_type": "execute_result",
          "data": {
            "text/plain": [
              "array([1., 2., 3.])"
            ]
          },
          "metadata": {},
          "execution_count": 89
        }
      ]
    },
    {
      "cell_type": "markdown",
      "metadata": {
        "id": "-UAcEtMxrumT"
      },
      "source": [
        "As a last permutation of this you can leave out either the starting index to indicate starting from 0 or the end-index, which indicates everything until the end (look carefuly to make sure you understand what this notation does):"
      ]
    },
    {
      "cell_type": "code",
      "metadata": {
        "colab": {
          "base_uri": "https://localhost:8080/"
        },
        "id": "bmsJacpor4h8",
        "outputId": "fbfd94df-ee24-403b-b0d7-d5bde3dee5b6"
      },
      "source": [
        "array[:2,1:]"
      ],
      "execution_count": 94,
      "outputs": [
        {
          "output_type": "execute_result",
          "data": {
            "text/plain": [
              "array([[2., 3.],\n",
              "       [5., 6.]])"
            ]
          },
          "metadata": {},
          "execution_count": 94
        }
      ]
    },
    {
      "cell_type": "markdown",
      "metadata": {
        "id": "HbjDYsIPodx-"
      },
      "source": [
        "Make sure you play around with this enough to be comfortable with getting sub-selections of arrays, and in particular with the 0-indexing in python (which more or less means that you always need to subtract 1 from whatever index you would intuitively select, e.g., 2 for the 3rd column etc.). "
      ]
    }
  ]
}