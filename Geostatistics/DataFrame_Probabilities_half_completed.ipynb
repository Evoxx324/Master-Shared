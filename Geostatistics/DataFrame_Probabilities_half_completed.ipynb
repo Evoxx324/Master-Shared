{
 "cells": [
  {
   "cell_type": "markdown",
   "id": "4c0a310a",
   "metadata": {},
   "source": [
    "## 2. Data frame and probabilities\n"
   ]
  },
  {
   "cell_type": "code",
   "execution_count": 28,
   "id": "60d9ef8f",
   "metadata": {},
   "outputs": [],
   "source": [
    "import pandas as pd\n",
    "import numpy as np\n",
    "df = pd.read_csv(r'C:\\Users\\dbryant\\Data\\US-MMS_short.csv')"
   ]
  },
  {
   "cell_type": "markdown",
   "id": "7dcfe6f3",
   "metadata": {},
   "source": [
    "## Calculate the mean and standard deviation of each column"
   ]
  },
  {
   "cell_type": "code",
   "execution_count": 36,
   "id": "c24efd3e",
   "metadata": {},
   "outputs": [
    {
     "name": "stdout",
     "output_type": "stream",
     "text": [
      "<bound method NDFrame.head of         YEAR  MONTH  DAY  HOUR     TA      PA    P     WS      RH     SWC  \\\n",
      "0       2003      1    1     1  2.002  97.400  0.1  4.240  83.630  47.000   \n",
      "1       2003      1    1     2  1.205  97.300  0.8  4.630  91.970  47.000   \n",
      "2       2003      1    1     3  0.836  97.200  0.7  5.450  92.560  47.000   \n",
      "3       2003      1    1     4  0.632  97.200  0.8  5.210  92.760  48.000   \n",
      "4       2003      1    1     5  0.326  97.100  0.9  5.020  95.700  49.000   \n",
      "...      ...    ...  ...   ...    ...     ...  ...    ...     ...     ...   \n",
      "105186  2014     12   31    19 -6.565  99.470  0.0  4.566  51.832  44.248   \n",
      "105187  2014     12   31    20 -6.783  99.426  0.0  5.052  55.345  44.174   \n",
      "105188  2014     12   31    21 -6.848  99.392  0.0  5.199  56.996  44.100   \n",
      "105189  2014     12   31    22 -6.913  99.353  0.0  5.381  58.939  43.952   \n",
      "105190  2014     12   31    23 -6.991  99.330  0.0  4.935  59.793  43.952   \n",
      "\n",
      "             G        LE        H       NEE  GPP  USTAR  SW_NET  LW_NET  \\\n",
      "0       -4.632  3.321300 -39.9312  0.662678  0.0  0.668   0.419   1.400   \n",
      "1       -5.075  5.979780 -66.9933  1.156150  0.0  0.688   0.927   1.800   \n",
      "2       -5.945 -4.503500 -71.0931  0.567972  0.0  0.848   0.910   3.200   \n",
      "3       -6.730  0.394589 -75.0968  0.443852  0.0  0.793   1.036   2.600   \n",
      "4       -7.337 -1.880010 -51.4169  0.500611  0.0  0.785   0.393   2.000   \n",
      "...        ...       ...      ...       ...  ...    ...     ...     ...   \n",
      "105186 -12.803 -4.729390 -47.5067 -0.460384  0.0  0.452  -1.449 -73.785   \n",
      "105187 -13.095  2.963070 -60.9957  0.262144  0.0  0.600  -1.389 -73.359   \n",
      "105188 -13.366 -1.775920 -62.1860  0.564444  0.0  0.601  -1.422 -74.771   \n",
      "105189 -13.509 -3.846230 -61.4453  0.900116  0.0  0.651  -1.337 -73.220   \n",
      "105190 -13.463 -4.464380 -58.5973 -0.122671  0.0  0.523  -1.378 -72.007   \n",
      "\n",
      "             LAI        GA  \n",
      "0       0.489881  5.539262  \n",
      "1       0.489860  5.492919  \n",
      "2       0.489840  7.289668  \n",
      "3       0.489819  6.646328  \n",
      "4       0.489799  6.811513  \n",
      "...          ...       ...  \n",
      "105186  0.483108  3.776217  \n",
      "105187  0.483333  5.394632  \n",
      "105188  0.483559  5.523580  \n",
      "105189  0.483785  6.193419  \n",
      "105190  0.484011  4.548778  \n",
      "\n",
      "[105191 rows x 20 columns]>\n",
      "<bound method DataFrame.mean of         YEAR  MONTH  DAY  HOUR     TA      PA    P     WS      RH     SWC  \\\n",
      "0       2003      1    1     1  2.002  97.400  0.1  4.240  83.630  47.000   \n",
      "1       2003      1    1     2  1.205  97.300  0.8  4.630  91.970  47.000   \n",
      "2       2003      1    1     3  0.836  97.200  0.7  5.450  92.560  47.000   \n",
      "3       2003      1    1     4  0.632  97.200  0.8  5.210  92.760  48.000   \n",
      "4       2003      1    1     5  0.326  97.100  0.9  5.020  95.700  49.000   \n",
      "...      ...    ...  ...   ...    ...     ...  ...    ...     ...     ...   \n",
      "105186  2014     12   31    19 -6.565  99.470  0.0  4.566  51.832  44.248   \n",
      "105187  2014     12   31    20 -6.783  99.426  0.0  5.052  55.345  44.174   \n",
      "105188  2014     12   31    21 -6.848  99.392  0.0  5.199  56.996  44.100   \n",
      "105189  2014     12   31    22 -6.913  99.353  0.0  5.381  58.939  43.952   \n",
      "105190  2014     12   31    23 -6.991  99.330  0.0  4.935  59.793  43.952   \n",
      "\n",
      "             G        LE        H       NEE  GPP  USTAR  SW_NET  LW_NET  \\\n",
      "0       -4.632  3.321300 -39.9312  0.662678  0.0  0.668   0.419   1.400   \n",
      "1       -5.075  5.979780 -66.9933  1.156150  0.0  0.688   0.927   1.800   \n",
      "2       -5.945 -4.503500 -71.0931  0.567972  0.0  0.848   0.910   3.200   \n",
      "3       -6.730  0.394589 -75.0968  0.443852  0.0  0.793   1.036   2.600   \n",
      "4       -7.337 -1.880010 -51.4169  0.500611  0.0  0.785   0.393   2.000   \n",
      "...        ...       ...      ...       ...  ...    ...     ...     ...   \n",
      "105186 -12.803 -4.729390 -47.5067 -0.460384  0.0  0.452  -1.449 -73.785   \n",
      "105187 -13.095  2.963070 -60.9957  0.262144  0.0  0.600  -1.389 -73.359   \n",
      "105188 -13.366 -1.775920 -62.1860  0.564444  0.0  0.601  -1.422 -74.771   \n",
      "105189 -13.509 -3.846230 -61.4453  0.900116  0.0  0.651  -1.337 -73.220   \n",
      "105190 -13.463 -4.464380 -58.5973 -0.122671  0.0  0.523  -1.378 -72.007   \n",
      "\n",
      "             LAI        GA  \n",
      "0       0.489881  5.539262  \n",
      "1       0.489860  5.492919  \n",
      "2       0.489840  7.289668  \n",
      "3       0.489819  6.646328  \n",
      "4       0.489799  6.811513  \n",
      "...          ...       ...  \n",
      "105186  0.483108  3.776217  \n",
      "105187  0.483333  5.394632  \n",
      "105188  0.483559  5.523580  \n",
      "105189  0.483785  6.193419  \n",
      "105190  0.484011  4.548778  \n",
      "\n",
      "[105191 rows x 20 columns]>\n",
      "<bound method DataFrame.std of         YEAR  MONTH  DAY  HOUR     TA      PA    P     WS      RH     SWC  \\\n",
      "0       2003      1    1     1  2.002  97.400  0.1  4.240  83.630  47.000   \n",
      "1       2003      1    1     2  1.205  97.300  0.8  4.630  91.970  47.000   \n",
      "2       2003      1    1     3  0.836  97.200  0.7  5.450  92.560  47.000   \n",
      "3       2003      1    1     4  0.632  97.200  0.8  5.210  92.760  48.000   \n",
      "4       2003      1    1     5  0.326  97.100  0.9  5.020  95.700  49.000   \n",
      "...      ...    ...  ...   ...    ...     ...  ...    ...     ...     ...   \n",
      "105186  2014     12   31    19 -6.565  99.470  0.0  4.566  51.832  44.248   \n",
      "105187  2014     12   31    20 -6.783  99.426  0.0  5.052  55.345  44.174   \n",
      "105188  2014     12   31    21 -6.848  99.392  0.0  5.199  56.996  44.100   \n",
      "105189  2014     12   31    22 -6.913  99.353  0.0  5.381  58.939  43.952   \n",
      "105190  2014     12   31    23 -6.991  99.330  0.0  4.935  59.793  43.952   \n",
      "\n",
      "             G        LE        H       NEE  GPP  USTAR  SW_NET  LW_NET  \\\n",
      "0       -4.632  3.321300 -39.9312  0.662678  0.0  0.668   0.419   1.400   \n",
      "1       -5.075  5.979780 -66.9933  1.156150  0.0  0.688   0.927   1.800   \n",
      "2       -5.945 -4.503500 -71.0931  0.567972  0.0  0.848   0.910   3.200   \n",
      "3       -6.730  0.394589 -75.0968  0.443852  0.0  0.793   1.036   2.600   \n",
      "4       -7.337 -1.880010 -51.4169  0.500611  0.0  0.785   0.393   2.000   \n",
      "...        ...       ...      ...       ...  ...    ...     ...     ...   \n",
      "105186 -12.803 -4.729390 -47.5067 -0.460384  0.0  0.452  -1.449 -73.785   \n",
      "105187 -13.095  2.963070 -60.9957  0.262144  0.0  0.600  -1.389 -73.359   \n",
      "105188 -13.366 -1.775920 -62.1860  0.564444  0.0  0.601  -1.422 -74.771   \n",
      "105189 -13.509 -3.846230 -61.4453  0.900116  0.0  0.651  -1.337 -73.220   \n",
      "105190 -13.463 -4.464380 -58.5973 -0.122671  0.0  0.523  -1.378 -72.007   \n",
      "\n",
      "             LAI        GA  \n",
      "0       0.489881  5.539262  \n",
      "1       0.489860  5.492919  \n",
      "2       0.489840  7.289668  \n",
      "3       0.489819  6.646328  \n",
      "4       0.489799  6.811513  \n",
      "...          ...       ...  \n",
      "105186  0.483108  3.776217  \n",
      "105187  0.483333  5.394632  \n",
      "105188  0.483559  5.523580  \n",
      "105189  0.483785  6.193419  \n",
      "105190  0.484011  4.548778  \n",
      "\n",
      "[105191 rows x 20 columns]>\n",
      "<bound method DataFrame.max of         YEAR  MONTH  DAY  HOUR     TA      PA    P     WS      RH     SWC  \\\n",
      "0       2003      1    1     1  2.002  97.400  0.1  4.240  83.630  47.000   \n",
      "1       2003      1    1     2  1.205  97.300  0.8  4.630  91.970  47.000   \n",
      "2       2003      1    1     3  0.836  97.200  0.7  5.450  92.560  47.000   \n",
      "3       2003      1    1     4  0.632  97.200  0.8  5.210  92.760  48.000   \n",
      "4       2003      1    1     5  0.326  97.100  0.9  5.020  95.700  49.000   \n",
      "...      ...    ...  ...   ...    ...     ...  ...    ...     ...     ...   \n",
      "105186  2014     12   31    19 -6.565  99.470  0.0  4.566  51.832  44.248   \n",
      "105187  2014     12   31    20 -6.783  99.426  0.0  5.052  55.345  44.174   \n",
      "105188  2014     12   31    21 -6.848  99.392  0.0  5.199  56.996  44.100   \n",
      "105189  2014     12   31    22 -6.913  99.353  0.0  5.381  58.939  43.952   \n",
      "105190  2014     12   31    23 -6.991  99.330  0.0  4.935  59.793  43.952   \n",
      "\n",
      "             G        LE        H       NEE  GPP  USTAR  SW_NET  LW_NET  \\\n",
      "0       -4.632  3.321300 -39.9312  0.662678  0.0  0.668   0.419   1.400   \n",
      "1       -5.075  5.979780 -66.9933  1.156150  0.0  0.688   0.927   1.800   \n",
      "2       -5.945 -4.503500 -71.0931  0.567972  0.0  0.848   0.910   3.200   \n",
      "3       -6.730  0.394589 -75.0968  0.443852  0.0  0.793   1.036   2.600   \n",
      "4       -7.337 -1.880010 -51.4169  0.500611  0.0  0.785   0.393   2.000   \n",
      "...        ...       ...      ...       ...  ...    ...     ...     ...   \n",
      "105186 -12.803 -4.729390 -47.5067 -0.460384  0.0  0.452  -1.449 -73.785   \n",
      "105187 -13.095  2.963070 -60.9957  0.262144  0.0  0.600  -1.389 -73.359   \n",
      "105188 -13.366 -1.775920 -62.1860  0.564444  0.0  0.601  -1.422 -74.771   \n",
      "105189 -13.509 -3.846230 -61.4453  0.900116  0.0  0.651  -1.337 -73.220   \n",
      "105190 -13.463 -4.464380 -58.5973 -0.122671  0.0  0.523  -1.378 -72.007   \n",
      "\n",
      "             LAI        GA  \n",
      "0       0.489881  5.539262  \n",
      "1       0.489860  5.492919  \n",
      "2       0.489840  7.289668  \n",
      "3       0.489819  6.646328  \n",
      "4       0.489799  6.811513  \n",
      "...          ...       ...  \n",
      "105186  0.483108  3.776217  \n",
      "105187  0.483333  5.394632  \n",
      "105188  0.483559  5.523580  \n",
      "105189  0.483785  6.193419  \n",
      "105190  0.484011  4.548778  \n",
      "\n",
      "[105191 rows x 20 columns]>\n"
     ]
    }
   ],
   "source": [
    "df.head()\n",
    "print(df.head)\n",
    "df.mean()\n",
    "print(df.mean)\n",
    "df.std()\n",
    "print(df.std)\n",
    "df.max()\n",
    "print(df.max)"
   ]
  },
  {
   "cell_type": "markdown",
   "id": "b08d9610",
   "metadata": {},
   "source": [
    "## Filter out temperature (1) of September and (2) higher than 0, respectively"
   ]
  },
  {
   "cell_type": "code",
   "execution_count": null,
   "id": "047d203c",
   "metadata": {},
   "outputs": [],
   "source": [
    "sept_filter = df['MONTH']==9\n",
    "#print(sept_filter)\n",
    "\n",
    "df_sept = df[sept_filter]\n",
    "\n",
    "# equivalent to \n",
    "df_sept = df[df['MONTH']==9]\n",
    "\n",
    "#print(len(df))\n",
    "#print(len(df_sept))\n",
    "\n",
    "\n",
    "# df_sept.head()\n",
    "#print(df_sept)\n",
    "\n",
    "## Calculate the average September temperatue\n",
    "#print(df_sept.mean())\n",
    "\n",
    "## Filter out the temperature higher than zero, calculate the avera\n",
    "df_temp = df[df['TA']>0]\n",
    "\n",
    "print(len(df_temp))\n",
    "print(df_temp.min())\n",
    "\n",
    "## Calculate the daytime (Radiation, SW_NET>0) average temperature in September\n",
    "df_sept_day = df[(df['MONTH']==9) * (df['SW_NET']>0)]\n",
    "print(df_sept_day.mean())\n"
   ]
  },
  {
   "cell_type": "markdown",
   "id": "b1719d92",
   "metadata": {},
   "source": [
    "## Plot out the time series of temperature"
   ]
  },
  {
   "cell_type": "code",
   "execution_count": null,
   "id": "b3a219be",
   "metadata": {},
   "outputs": [],
   "source": [
    "import matplotlib.pyplot as plt\n",
    "import seaborn as sns\n",
    "sns.set(style = 'ticks',font_scale=1.75)\n",
    "\n",
    "# plt.plot(df_sept['TA'])\n",
    "\n",
    "## The complete record\n",
    "plt.figure(); plt.plot(df['TA'])\n",
    "plt.xlabel('Hour'); plt.ylabel('Air temperature (degree C)')\n",
    "\n",
    "plt.figure(); plt.plot(df['NEE'])\n",
    "plt.xlabel('Hour'); plt.ylabel('Net ecosystem exchange (umol/m2/s)')\n",
    "\n",
    "\n",
    "## Temperature in a day"
   ]
  },
  {
   "cell_type": "markdown",
   "id": "47d294dd",
   "metadata": {},
   "source": [
    "## Handle time stamps"
   ]
  },
  {
   "cell_type": "code",
   "execution_count": null,
   "id": "f164fac3",
   "metadata": {},
   "outputs": [],
   "source": [
    "# For times tamps\n",
    "import datetime\n",
    "print(datetime.datetime(2022,9,1,13,25))\n",
    "\n",
    "\n",
    "## Write the first datetime in the dateframe\n",
    "\n",
    "## Write a for loop to generate a list of time stamps\n",
    "\n",
    "tt = []\n",
    "# for i in range(len(df)):\n",
    "\n",
    "\n",
    "## Plot a time series of temperature with the x-axis being the time "
   ]
  },
  {
   "cell_type": "markdown",
   "id": "57eda591",
   "metadata": {},
   "source": [
    "## How many hours rained? \n"
   ]
  },
  {
   "cell_type": "code",
   "execution_count": null,
   "id": "925054d5",
   "metadata": {},
   "outputs": [],
   "source": [
    "plt.plot(df['P'])\n",
    "plt.xlabel('Hour');plt.ylabel('Precipitation')\n",
    "\n",
    "## How many hours are there in the dataframe?\n",
    "N = len(df)\n",
    "\n",
    "## How many hours rained?  (P>0.1)\n",
    "N_rain = len(df[df['P']>0.1])\n",
    "\n",
    "## What is the probabiliy of an rainy hour? \n",
    "\n",
    "Pr = N_rain/N\n",
    "\n",
    "print(N,N_rain,Pr)\n"
   ]
  },
  {
   "cell_type": "markdown",
   "id": "b3250fc5",
   "metadata": {},
   "source": [
    "## Calculate daily precipitation"
   ]
  },
  {
   "cell_type": "code",
   "execution_count": null,
   "id": "624771ba",
   "metadata": {},
   "outputs": [],
   "source": [
    "## How many days are there in the dataframe?\n",
    "\n",
    "TA = df['TA'].values\n",
    "\n",
    "windowsize = 24\n",
    "\n",
    "Ndays = len(df)//windowsize; print(Ndays)\n",
    "\n",
    "TA = TA[0:Ndays*windowsize]\n",
    "\n",
    "## Reshape the array\n",
    "TA_2d = np.reshape(TA,[Ndays,windowsize])\n",
    "print(TA.shape, TA_2d.shape)\n",
    "\n",
    "## Array average\n",
    "TA_daily = np.mean(TA_2d,axis=1)\n",
    "print(TA_daily.shape)\n",
    "\n",
    "plt.figure();plt.plot(TA)\n",
    "plt.figure();plt.plot(TA_daily)"
   ]
  },
  {
   "cell_type": "markdown",
   "id": "3132239f",
   "metadata": {},
   "source": [
    "## Define a function to calculate daily averages from houly time series"
   ]
  },
  {
   "cell_type": "code",
   "execution_count": null,
   "id": "1aac9fbc",
   "metadata": {},
   "outputs": [],
   "source": [
    "## Define function\n",
    "\n",
    "def dailyAvg(a,windowsize):\n",
    "    Ndays = len(a)//windowsize\n",
    "    a = a[0:Ndays*windowsize]\n",
    "    a_daily = np.mean(np.reshape(a,[Ndays,windowsize]),axis=1)\n",
    "    return a_daily\n",
    "\n",
    "# ## Call the function\n",
    "TA_daily2 = dailyAvg(df['TA'].values,24) \n",
    "P_daily = dailyAvg(df['P'].values,24) \n",
    "P_weekly = dailyAvg(df['P'].values,24*7) \n",
    "P_monthly = dailyAvg(df['P'].values,24*30) \n",
    "\n",
    "\n",
    "## Visualize the daily time series\n",
    "plt.plot(P_monthly)\n",
    "\n",
    "\n"
   ]
  },
  {
   "cell_type": "markdown",
   "id": "f87e2294",
   "metadata": {},
   "source": [
    "## Calculate the averegae diurnal/seasonal cycle"
   ]
  },
  {
   "cell_type": "code",
   "execution_count": null,
   "id": "1bd1ef8b",
   "metadata": {},
   "outputs": [],
   "source": [
    "diurnal_cycle_T = df.groupby('HOUR').mean()\n",
    "# print(diurnal_cycle_T)\n",
    "plt.plot(diurnal_cycle_T['TA'])\n",
    "\n",
    "# Average diurnal cycles in January and August\n",
    "# jan_filter = df['MONTH']==1\n",
    "# df_jan = df[jan_filter]\n",
    "\n",
    "#df_jan = df[df['MONTH']==1]\n",
    "#diurnal_cycle_T_jan = df_jan.groupby('HOUR').mean()\n",
    "\n",
    "diurnal_cycle_T_jan = df[df['MONTH']==1].groupby('HOUR').mean()['TA']\n",
    "diurnal_cycle_T_aug = df[df['MONTH']==8].groupby('HOUR').mean()['TA']\n",
    "plt.figure()\n",
    "plt.plot(diurnal_cycle_T_jan,label='Jan')\n",
    "plt.plot(diurnal_cycle_T_aug,label='Aug')\n",
    "plt.legend()\n",
    "\n",
    "seasonal_cycle_T = df.groupby('MONTH').mean()['TA']\n",
    "plt.figure()\n",
    "plt.plot(seasonal_cycle_T)"
   ]
  },
  {
   "cell_type": "markdown",
   "id": "e5759ab7",
   "metadata": {},
   "source": [
    "## Plot the histogram of daily air temperature"
   ]
  },
  {
   "cell_type": "code",
   "execution_count": null,
   "id": "7aa04cd9",
   "metadata": {},
   "outputs": [],
   "source": [
    "# plt.plot(TA_daily)\n",
    "\n",
    "plt.figure()\n",
    "plt.hist(TA_daily,bins=np.arange(-20,40,5))\n",
    "plt.xlabel('TA'); plt.ylabel('Frequency')\n",
    "\n",
    "plt.figure()\n",
    "plt.hist(TA_daily,bins=np.arange(-20,40,5),density=True)\n",
    "plt.xlabel('TA'); plt.ylabel('PDF')"
   ]
  },
  {
   "cell_type": "markdown",
   "id": "e7c48d96",
   "metadata": {},
   "source": [
    "## Calculate the average and standard deviation of the daily temperature"
   ]
  },
  {
   "cell_type": "code",
   "execution_count": null,
   "id": "7f852f70",
   "metadata": {},
   "outputs": [],
   "source": []
  },
  {
   "cell_type": "markdown",
   "id": "b7ec6e74",
   "metadata": {},
   "source": [
    "## Fit a Gaussian distribution for daily temperature"
   ]
  },
  {
   "cell_type": "code",
   "execution_count": null,
   "id": "d38c5636",
   "metadata": {},
   "outputs": [],
   "source": [
    "from scipy import stats\n",
    "# ta_range = \n",
    "# ta_pdf = stats.norm.pdf()\n",
    "\n",
    "\n",
    "## Compare the histogram and the fitted pdf\n",
    "\n",
    "\n",
    "\n"
   ]
  },
  {
   "cell_type": "code",
   "execution_count": null,
   "id": "0280e5b4",
   "metadata": {},
   "outputs": [],
   "source": [
    "## Fit normal distribution in another way\n",
    "\n",
    "# m,s = stats.norm.fit()\n",
    "\n",
    "# pdf_ta = stats.norm.pdf()\n",
    "\n"
   ]
  },
  {
   "cell_type": "code",
   "execution_count": null,
   "id": "8f763e06",
   "metadata": {},
   "outputs": [],
   "source": []
  },
  {
   "cell_type": "code",
   "execution_count": null,
   "id": "9da133c2",
   "metadata": {},
   "outputs": [],
   "source": []
  },
  {
   "cell_type": "code",
   "execution_count": null,
   "id": "de101865",
   "metadata": {},
   "outputs": [],
   "source": []
  },
  {
   "cell_type": "code",
   "execution_count": null,
   "id": "7d24a721",
   "metadata": {},
   "outputs": [],
   "source": []
  },
  {
   "cell_type": "code",
   "execution_count": null,
   "id": "9b137017",
   "metadata": {},
   "outputs": [],
   "source": []
  }
 ],
 "metadata": {
  "kernelspec": {
   "display_name": "Python 3 (ipykernel)",
   "language": "python",
   "name": "python3"
  },
  "language_info": {
   "codemirror_mode": {
    "name": "ipython",
    "version": 3
   },
   "file_extension": ".py",
   "mimetype": "text/x-python",
   "name": "python",
   "nbconvert_exporter": "python",
   "pygments_lexer": "ipython3",
   "version": "3.12.4"
  }
 },
 "nbformat": 4,
 "nbformat_minor": 5
}
