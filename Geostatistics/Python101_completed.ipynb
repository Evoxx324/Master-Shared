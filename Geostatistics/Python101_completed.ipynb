{
 "cells": [
  {
   "cell_type": "markdown",
   "metadata": {},
   "source": [
    "# Welcome to the world of Python!\n",
    "### In this notebook, we will walk through basics of coding in Python to get you started. \n",
    "### Here is a good beginer tutorial for reference: https://python101.pythonlibrary.org/index.html\n",
    "\n"
   ]
  },
  {
   "cell_type": "markdown",
   "metadata": {},
   "source": [
    "## 1. Strings"
   ]
  },
  {
   "cell_type": "code",
   "execution_count": 3,
   "metadata": {},
   "outputs": [
    {
     "name": "stdout",
     "output_type": "stream",
     "text": [
      "Hello Python!\n"
     ]
    }
   ],
   "source": [
    "print(\"Hello Python!\")"
   ]
  },
  {
   "cell_type": "code",
   "execution_count": 19,
   "metadata": {},
   "outputs": [
    {
     "name": "stdout",
     "output_type": "stream",
     "text": [
      "Geostatistics is fun\n",
      "fun\n"
     ]
    }
   ],
   "source": [
    "string1 = \"Geostatistics\"\n",
    "\n",
    "# print(string1)\n",
    "\n",
    "string2 = \" is fun\" \n",
    "\n",
    "## How do we combine the two strings in to a new one named string3?\n",
    "\n",
    "string3 = string1 + string2\n",
    "print(string3)\n",
    "\n",
    "## How do we take a slice of string 3 and put it into a new string named string4?\n",
    "\n",
    "## String slicing\n",
    "\n",
    "string4 = string3[17:20]\n",
    "string4 = string3[-3:]\n",
    "\n",
    "print(string4)\n",
    "\n",
    "#string5 = string3[0:13]\n",
    "#print(string5)"
   ]
  },
  {
   "cell_type": "markdown",
   "metadata": {},
   "source": [
    "## 2. Lists"
   ]
  },
  {
   "cell_type": "code",
   "execution_count": 30,
   "metadata": {},
   "outputs": [
    {
     "name": "stdout",
     "output_type": "stream",
     "text": [
      "[4, 7, 3, 'a', 'b', 'c']\n",
      "a\n",
      "[7, 4, 3]\n"
     ]
    }
   ],
   "source": [
    "# Lists\n",
    "list0 = []\n",
    "list1 = [4,7,3]\n",
    "list2 = ['a','b','c']\n",
    "\n",
    "\n",
    "## List concatenation\n",
    "\n",
    "list_combo = list1 + list2\n",
    "print(list_combo)\n",
    "\n",
    "## List slicing\n",
    "\n",
    "list_sliced = list_combo[3]\n",
    "# list_sliced = list_combo[-3]\n",
    "\n",
    "print(list_sliced)\n",
    "# print(combo_list)\n",
    "\n",
    "## List sorting\n",
    "\n",
    "list1.sort()\n",
    "print(list1[::-1])\n",
    "\n"
   ]
  },
  {
   "cell_type": "markdown",
   "metadata": {},
   "source": [
    "## 3. Numbers"
   ]
  },
  {
   "cell_type": "code",
   "execution_count": 44,
   "metadata": {},
   "outputs": [
    {
     "name": "stdout",
     "output_type": "stream",
     "text": [
      "<class 'int'>\n",
      "<class 'float'>\n",
      "4\n",
      "4\n",
      "<class 'str'>\n",
      "Aug 26\n",
      "26.0 <class 'float'>\n"
     ]
    }
   ],
   "source": [
    "## Integer\n",
    "a = 3\n",
    "print(type(a))\n",
    "\n",
    "## Float\n",
    "b = 11.0\n",
    "print(type(b))\n",
    "\n",
    "## Arithmetic Operators\n",
    "c = 2\n",
    "\n",
    "# r1 = a + b; print(r1)\n",
    "# r2 = a - b; print(r2)\n",
    "# r3 = a * b; print(r3)\n",
    "# r4 = a/c; print(r4)\n",
    "# r5 = a//c; print(r5)\n",
    "# r6 = a**c; print(r6)\n",
    "\n",
    "## Assignment Operators\n",
    "a += 1 # a = a + 1\n",
    "print(a)\n",
    "c *= 2 # c = c*2\n",
    "print(c)\n",
    "\n",
    "## Number to string\n",
    "day = 26\n",
    "day_str = str(day); print(type(day_str))\n",
    "month = 'Aug'\n",
    "\n",
    "print(month+\" \"+day_str)\n",
    "\n",
    "## String to number \n",
    "day_num = float(day_str)\n",
    "print(day_num, type(day_num))\n",
    "\n"
   ]
  },
  {
   "cell_type": "markdown",
   "metadata": {},
   "source": [
    "## 4. Numpy arrays"
   ]
  },
  {
   "cell_type": "code",
   "execution_count": 4,
   "metadata": {},
   "outputs": [
    {
     "name": "stdout",
     "output_type": "stream",
     "text": [
      "[2]\n",
      "(3,)\n",
      "[2. 5.]\n",
      "[1 2 3]\n",
      "[3 4 5]\n",
      "[ 3  8 15]\n",
      "26\n"
     ]
    }
   ],
   "source": [
    "## Let's import your first python package\n",
    "import numpy as np\n",
    "\n",
    "## 1-D array\n",
    "A1 = np.array([1,2,3]) # 1-D array\n",
    "print(A1[1:2])\n",
    "\n",
    "## How to find out the shape or dimension of the array?\n",
    "print(A1.shape)\n",
    "\n",
    "\n",
    "## 2-D array\n",
    "B1 = np.array([[1,2,3],[4,5,6]]) \n",
    "# print(B1)\n",
    "# print(B1.shape)\n",
    "\n",
    "print(np.mean(B1,axis=1))\n",
    "\n",
    "\n",
    "\n",
    "## Broadcasting\n",
    "A2 = A1+2\n",
    "print(A1)\n",
    "print(A2)\n",
    "\n",
    "\n",
    "\n",
    "## Array multiplication. Let's multiply the two arrays A1 and A2 and put the result into A3.\n",
    "A3 = A1*A2\n",
    "print(A3)\n",
    "\n",
    "# Matrix product. Matrix product is different from array multiplication\n",
    "\n",
    "C1 = np.dot(A1,np.transpose(A2))\n",
    "print(C1)\n"
   ]
  },
  {
   "cell_type": "markdown",
   "metadata": {},
   "source": [
    "## 5. Conditional statements"
   ]
  },
  {
   "cell_type": "code",
   "execution_count": 29,
   "metadata": {},
   "outputs": [
    {
     "name": "stdout",
     "output_type": "stream",
     "text": [
      "[1 2 3] [ 3  8 15]\n",
      "[1 1 1]\n",
      "[1 1 0]\n",
      "[1 1 1]\n",
      "[ True False  True]\n",
      "[False  True False]\n",
      "no\n"
     ]
    }
   ],
   "source": [
    "## An example of if, else\n",
    "var1 = 10\n",
    "var2 = 3\n",
    "\n",
    "## Create a boolean variable that indicates whether a condition is true or false\n",
    "\n",
    "flag = var1 > var2\n",
    "# print(flag)\n",
    "\n",
    "\n",
    "## Write our first if-else statement \n",
    "\n",
    "# if var1>var2:\n",
    "#     print(str(var1)+\" is greater than \"+str(var2))\n",
    "# else:\n",
    "#     print(str(var1)+\" is not greater than \"+str(var2))\n",
    "    \n",
    "    \n",
    "## An example of elif, and, or\n",
    "a = 3\n",
    "b = 11.0\n",
    "\n",
    "# if a<10 and b<10:\n",
    "#     print(\"Both are less than 10\")\n",
    "# elif a<10 or b<10:\n",
    "#     print(\"One of the two is less than 10\")\n",
    "# else:\n",
    "#     print(\"None is less than 10\")\n",
    "\n",
    "print(A1,A3)\n",
    "print((A1<10)*1)\n",
    "print((A3<10)*1)\n",
    "\n",
    "print(((A1<10)+(A3<10))*1)\n",
    "    \n",
    "\n",
    "## More about Boolean Operations\n",
    "A1 = np.array([1,2,3]) # 1-D array\n",
    "\n",
    "print(A1!=2)\n",
    "print(A1==2)\n",
    "\n",
    "\n",
    "my_list = [1, 2, 3, 4]\n",
    "x = 3\n",
    "\n",
    "if x not in my_list:\n",
    "    print('yes')\n",
    "else:\n",
    "    print('no')\n",
    "\n",
    "## Write a conditional statement to find out if \"x\" is in \"my_list\".\n",
    "## in / not in, equal, not equal\n",
    "\n"
   ]
  },
  {
   "cell_type": "code",
   "execution_count": null,
   "metadata": {},
   "outputs": [],
   "source": []
  },
  {
   "cell_type": "markdown",
   "metadata": {},
   "source": [
    "## 6. For loops"
   ]
  },
  {
   "cell_type": "code",
   "execution_count": 34,
   "metadata": {},
   "outputs": [
    {
     "name": "stdout",
     "output_type": "stream",
     "text": [
      "a\n",
      "b\n",
      "c\n",
      "0 a\n",
      "1 b\n",
      "2 c\n",
      "3\n",
      "4\n"
     ]
    }
   ],
   "source": [
    "## Loop over a list\n",
    "\n",
    "my_list2 = ['a','b','c']\n",
    "\n",
    "## Loop over a numerical range\n",
    "\n",
    "for item in my_list2:\n",
    "    print(item)\n",
    "\n",
    "## Enumerate\n",
    "# for i in range(13):\n",
    "#     print(i)\n",
    "\n",
    "## list, enumerate\n",
    "\n",
    "for i,fname in enumerate(my_list2):\n",
    "    print(i,fname)\n",
    "    \n",
    "\n",
    "## Combine loops and conditional statements\n",
    "my_list = [1, 2, 3, 4]\n",
    "\n",
    "for i in my_list:\n",
    "    if i>2:\n",
    "        print(i)\n"
   ]
  },
  {
   "cell_type": "markdown",
   "metadata": {},
   "source": [
    "## 7. List Comprehensions"
   ]
  },
  {
   "cell_type": "code",
   "execution_count": 39,
   "metadata": {},
   "outputs": [
    {
     "name": "stdout",
     "output_type": "stream",
     "text": [
      "[3, 4, 5, 6, 7]\n",
      "['b', 'd', 'f', 'h', 'j']\n"
     ]
    }
   ],
   "source": [
    "## Create a list where the ith item equals to i+3\n",
    "my_list2 = []\n",
    "\n",
    "for i in range(5):\n",
    "    my_list2.append(i+3)\n",
    "#     print(my_list2)\n",
    "\n",
    "#equivalent to:\n",
    "my_list2 = [i+3 for i in range(5)]\n",
    "print(my_list2)\n",
    "\n",
    "# print(my_list2)\n",
    "\n",
    "## Create a list where each item is the second character of each item in \"my_list3\", i.e., \"b\" in \"ab\".\n",
    "my_list3 = ['ab', 'cd', 'ef', 'gh', 'ij']\n",
    "my_list4 = [item[1] for item in my_list3]\n",
    "print(my_list4)\n",
    "\n"
   ]
  },
  {
   "cell_type": "markdown",
   "metadata": {},
   "source": [
    "## 8. Work with files"
   ]
  },
  {
   "cell_type": "code",
   "execution_count": 43,
   "metadata": {},
   "outputs": [
    {
     "name": "stdout",
     "output_type": "stream",
     "text": [
      "True\n",
      "Geostatistics is fun.\n"
     ]
    }
   ],
   "source": [
    "## work with files\n",
    "import os # operating system\n",
    "filename = \"test.txt\"\n",
    "\n",
    "## check if a file exists\n",
    "print(os.path.isfile(filename))\n",
    "\n",
    "\n",
    "## open and read a text file\n",
    "with open(filename,'r') as f:\n",
    "    line1 = f.read()\n",
    "print(line1)\n",
    "\n",
    "\n",
    "## open and write a text file    \n",
    "# with open(filename,'w') as f:\n",
    "#     f.write('Geostatistics is fun.')\n",
    "\n"
   ]
  },
  {
   "cell_type": "markdown",
   "metadata": {},
   "source": [
    "## 9. Functions"
   ]
  },
  {
   "cell_type": "code",
   "execution_count": 10,
   "metadata": {},
   "outputs": [],
   "source": [
    "## Define a function to calculate the maximum amount of water vapor in the air under given temperature\n",
    "import numpy as np\n",
    "def T2ES(T):\n",
    "    # T in degree C\n",
    "    # esat in kPa\n",
    "    esat = 0.611*np.exp(17.625*T/(T+243.04))\n",
    "    return esat\n",
    "\n",
    "## Call the function to calculate esat under T=20\n",
    "esat1 = T2ES(20)\n",
    "   \n",
    "\n",
    "## Call the function to calculate esat under temperatures ranging from 0 to 30 degree C\n",
    "\n"
   ]
  },
  {
   "cell_type": "markdown",
   "metadata": {},
   "source": [
    "## 10. Plot lines"
   ]
  },
  {
   "cell_type": "code",
   "execution_count": 11,
   "metadata": {},
   "outputs": [],
   "source": [
    "import matplotlib.pyplot as plt # The standard package for visualization\n",
    "\n",
    "# plt.figure()\n",
    "# plt.plot(T,esat2)\n",
    "# plt.xlabel('Temperature (degree C)')\n",
    "# plt.ylabel('Saturated vapor pressure (kPa)')\n"
   ]
  },
  {
   "cell_type": "code",
   "execution_count": null,
   "metadata": {},
   "outputs": [],
   "source": []
  }
 ],
 "metadata": {
  "kernelspec": {
   "display_name": "Python 3 (ipykernel)",
   "language": "python",
   "name": "python3"
  },
  "language_info": {
   "codemirror_mode": {
    "name": "ipython",
    "version": 3
   },
   "file_extension": ".py",
   "mimetype": "text/x-python",
   "name": "python",
   "nbconvert_exporter": "python",
   "pygments_lexer": "ipython3",
   "version": "3.9.12"
  }
 },
 "nbformat": 4,
 "nbformat_minor": 4
}
